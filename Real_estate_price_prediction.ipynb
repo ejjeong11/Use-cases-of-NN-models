{
  "cells": [
    {
      "cell_type": "markdown",
      "metadata": {
        "id": "U8YOCpyn-rKa"
      },
      "source": [
        "# REAL ESTATE PRICE PREDICTION "
      ]
    },
    {
      "cell_type": "markdown",
      "metadata": {
        "id": "5D994NiULYme"
      },
      "source": [
        "#*Background: Use Case*"
      ]
    },
    {
      "cell_type": "markdown",
      "metadata": {
        "id": "pNPy9KrF0Rbs"
      },
      "source": [
        "Your task here is to use the supplied dataset describing homes, including four photos per home and some other structured features, along with an associated home sale price label, to try to fit a predictive model of sale price.\n",
        "\n",
        "The use case here is as follows. Your customers are individual sellers, buyers, and real estate agent, who wishes to set their sale price, or their offer price on a new home. You can assume the user will always have these features available to them at the time of prediction (i.e., the four photo types in question, as well as the structured features). "
      ]
    },
    {
      "cell_type": "markdown",
      "metadata": {
        "id": "epbB9Es8srBx"
      },
      "source": [
        "## Image pre-processing"
      ]
    },
    {
      "cell_type": "markdown",
      "source": [
        "* **Small image size**: Smaller image resizing allow mini-batches learning and also support the compute limitations since the model trains faster. However, too small image makes it difficult for the CNN to learn the features required for classification or detection which miseads predictions depending on the model and prediction problem.\n",
        "\n",
        "* **Large image size**: Models train slower on large images because an input image that is twice as large requires our network to learn from four times as many pixels. It might be the case that large image improve prediction performance and zero-padding had no effect on the classification accuracy depending on the model.\n",
        "\n",
        "* Therefore, It is important to balance between small and large image sizes and **choose optimal image resizing** point. Moreover, in the case of variable-sized images, many machine learning models require fixed and same dimensions images. Here, given our computational limit and prediction problem, hwe decided to resize image to **(128, 128)** to ensure best prediction performance and mini batches learning."
      ],
      "metadata": {
        "id": "wg0PKTy8cUDG"
      }
    },
    {
      "cell_type": "markdown",
      "metadata": {
        "id": "Hw75Duf_eQqE"
      },
      "source": [
        "## Feature engineering"
      ]
    },
    {
      "cell_type": "markdown",
      "metadata": {
        "id": "J8O_zKBYf2Wj"
      },
      "source": [
        "* **Image predictors**: we kept all image features - front, bathroom, bedroon, and kitchen because each type of images represents distict component of house. There wasn't any missing values and we resized it.\n",
        "\n",
        "* **bedrooms, bathroom, area**: These are numerical variables. We kept these because it has information about house size. The scale is different and standard deviation of 'area' is high, so we conducted normalization to the layer when we build the model.\n",
        "\n",
        "* **Zipcode**: We decided to keep it because it indicates significant information like location. However, zipcode is imbalanced, so we preprocessed it.\n",
        " * Only 49 unique values in 'zipcode' feature, 21 zipcodes has 1 row in it\n",
        " * Therefore, we maintained only the first three digits for zipcode to compress and got 7 zipcodes which have 1 row in it.  The first number represents a certain group of U.S. states and the second and third numbers represent a region in that group of states. \n",
        " * After that, we did **one hot encoding** to process categorical variable. Here's no hold sample to break our model, and there is also a fixed number of zip codes in the US.\n",
        "\n",
        "\n",
        "* Price: This is target variable."
      ]
    },
    {
      "cell_type": "markdown",
      "metadata": {
        "id": "BeNdB8Y7tNLM"
      },
      "source": [
        "#**Importing the Data**"
      ]
    },
    {
      "cell_type": "code",
      "execution_count": null,
      "metadata": {
        "id": "KKP2Be3BOHKL"
      },
      "outputs": [],
      "source": [
        "import tensorflow as tf\n",
        "import pandas as pd\n",
        "import numpy as np\n",
        "from google.colab import drive\n",
        "import matplotlib.pyplot as plt\n",
        "import glob\n",
        "from PIL import Image\n",
        "import cv2\n",
        "import os\n",
        "from tensorflow import keras\n",
        "from tensorflow.keras import layers\n",
        "from tensorflow.keras import regularizers"
      ]
    },
    {
      "cell_type": "code",
      "execution_count": null,
      "metadata": {
        "colab": {
          "base_uri": "https://localhost:8080/"
        },
        "id": "XtuL2MHSOIfJ",
        "outputId": "3d7db47f-95aa-4f01-8928-b91e31a6acd5"
      },
      "outputs": [
        {
          "output_type": "stream",
          "name": "stdout",
          "text": [
            "Mounted at /content/drive\n"
          ]
        }
      ],
      "source": [
        "\n",
        "drive.mount('/content/drive', force_remount=True)\n"
      ]
    },
    {
      "cell_type": "code",
      "execution_count": null,
      "metadata": {
        "id": "TZwvycFKOJ4k"
      },
      "outputs": [],
      "source": [
        "\n",
        "# Replace with your basepath to the extracted dataset in your Google Drive\n",
        "basePath = '/content/drive/MyDrive/BA865/datasets/HousesDataset'\n",
        "\n",
        "# basePath = 'gdrive/MyDrive/BA865/Week 5/datasets/Houses Dataset'"
      ]
    },
    {
      "cell_type": "code",
      "execution_count": null,
      "metadata": {
        "id": "lnNkr0SoOp9T"
      },
      "outputs": [],
      "source": [
        "\n",
        "# These are the column headers for the home characteristics data.\n",
        "cols = ['bedrooms','bathrooms','area','zipcode','price']\n",
        "\n",
        "# We first pull in the numeric features for houses from the text file.\n",
        "numericData = pd.read_csv(f'{basePath}/all/HousesInfo.txt', sep=\" \", header=None, names=cols)\n"
      ]
    },
    {
      "cell_type": "markdown",
      "source": [
        "# Labels and Predictors\n",
        "* **Labels**: Price (numeric)\n",
        "* **Images**: 4 types of images, 535 rows, resized it to 128,128 to balance between computational limitation and performance of vision model\n",
        "* **Dataframe(df)**: Numeric predictors; We dropped 'price' so that it has 4 features - bedrooms, bathrooms, area, zipcode"
      ],
      "metadata": {
        "id": "X6KyQpTx4Q2N"
      }
    },
    {
      "cell_type": "code",
      "execution_count": null,
      "metadata": {
        "id": "a2ab2j0wz3oA",
        "colab": {
          "base_uri": "https://localhost:8080/",
          "height": 113
        },
        "outputId": "14e1c908-8ccc-4797-bd37-6eb3a037d83d"
      },
      "outputs": [
        {
          "output_type": "stream",
          "name": "stdout",
          "text": [
            "The shape of our kitchen image array is (535, 128, 128, 3)\n"
          ]
        },
        {
          "output_type": "display_data",
          "data": {
            "image/png": "[encoded data removed]",
            "text/plain": [
              "<Figure size 432x288 with 3 Axes>"
            ]
          },
          "metadata": {
            "needs_background": "light"
          }
        }
      ],
      "source": [
        "# Pulling out the labels\n",
        "labels = numericData['price']\n",
        "\n",
        "# Image size = 128,128\n",
        "image_size = (128,128)\n",
        "\n",
        "# Reading the images into memory may take a minute - be patient :).\n",
        "def read_images(imageType):\n",
        "  image_list = []\n",
        "  for file in glob.glob(f\"{basePath}/all/{imageType}/*\"):\n",
        "    im=Image.open(file)\n",
        "    im=im.resize(size=image_size)\n",
        "    image_list.append(np.divide(np.array(im),255))\n",
        "  return np.stack(image_list)\n",
        "\n",
        "front_image = read_images(\"frontal\")\n",
        "bathroom_image = read_images(\"bathroom\")\n",
        "bedroom_image = read_images(\"bedroom\")\n",
        "kitchen_image = read_images(\"kitchen\")\n",
        "\n",
        "print(f'The shape of our kitchen image array is {kitchen_image.shape}')\n",
        "\n",
        "# Our 535 houses' images are all now in memory as 200x200 pictures, with 3 channels (RGB). Feel free to change the image size.\n",
        "for i in range(3):\n",
        "    ax = plt.subplot(3, 3, i + 1)\n",
        "    plt.imshow(kitchen_image[i])\n",
        "    plt.axis(\"off\")"
      ]
    },
    {
      "cell_type": "code",
      "execution_count": null,
      "metadata": {
        "id": "7H4AtUqa8tiQ"
      },
      "outputs": [],
      "source": [
        "# Shuffle the different arrays, in unison (preserving row ordering across the arrays)\n",
        "shuffled_indices= np.arange(front_image.shape[0])\n",
        "np.random.shuffle(shuffled_indices)\n",
        "\n",
        "front_image = front_image[shuffled_indices]\n",
        "kitchen_image = kitchen_image[shuffled_indices]\n",
        "bathroom_image = bathroom_image[shuffled_indices]\n",
        "bedroom_iamge = bedroom_image[shuffled_indices]\n",
        "numericData = numericData.iloc[shuffled_indices]\n",
        "labels = labels[shuffled_indices]"
      ]
    },
    {
      "cell_type": "code",
      "execution_count": null,
      "metadata": {
        "id": "Uqjkhu_isl9O",
        "colab": {
          "base_uri": "https://localhost:8080/"
        },
        "outputId": "467430ea-62b5-4ad0-af93-7f8344cbb67f"
      },
      "outputs": [
        {
          "output_type": "execute_result",
          "data": {
            "text/plain": [
              "(535, 128, 128, 3)"
            ]
          },
          "metadata": {},
          "execution_count": 7
        }
      ],
      "source": [
        "#Image feature shape\n",
        "front_image.shape"
      ]
    },
    {
      "cell_type": "code",
      "execution_count": null,
      "metadata": {
        "id": "3QsOwLV7Pq_z"
      },
      "outputs": [],
      "source": [
        "#Creating data frame without 'price'\n",
        "df = numericData.iloc[:,:4]"
      ]
    },
    {
      "cell_type": "code",
      "execution_count": null,
      "metadata": {
        "id": "Un-fM2lALlmv",
        "colab": {
          "base_uri": "https://localhost:8080/"
        },
        "outputId": "b599ecb2-d242-4240-b43a-f035d5175f5f"
      },
      "outputs": [
        {
          "output_type": "execute_result",
          "data": {
            "text/plain": [
              "(535, 4)"
            ]
          },
          "metadata": {},
          "execution_count": 9
        }
      ],
      "source": [
        "#It has 4 features\n",
        "df.shape"
      ]
    },
    {
      "cell_type": "markdown",
      "metadata": {
        "id": "O-7kHN2RaoQU"
      },
      "source": [
        "# Data Preprocessing"
      ]
    },
    {
      "cell_type": "markdown",
      "source": [
        "* **Bedrooms, Bathrooms, Area**: Numerical Variable. We can see the scale is different and standard deviation of 'area' is high. Therefore, We will apply **normalization method**(Batch normalization) to the numerical input layer when we build the mode.\n",
        "\n",
        "* **Zipcode**: Zipcode is categorical variable and it is imbalanced. We will encode the zipcode but have only first three digits."
      ],
      "metadata": {
        "id": "DB0yECgjNDB6"
      }
    },
    {
      "cell_type": "code",
      "source": [
        "df.describe()"
      ],
      "metadata": {
        "colab": {
          "base_uri": "https://localhost:8080/",
          "height": 300
        },
        "id": "lKP0OwDR4WPa",
        "outputId": "741fb362-849b-42b8-82e8-9a15f7b80707"
      },
      "execution_count": null,
      "outputs": [
        {
          "output_type": "execute_result",
          "data": {
            "text/html": [
              "\n",
              "  <div id=\"df-9e7e6bc1-a612-4713-b5b0-f7aa8c7f8a38\">\n",
              "    <div class=\"colab-df-container\">\n",
              "      <div>\n",
              "<style scoped>\n",
              "    .dataframe tbody tr th:only-of-type {\n",
              "        vertical-align: middle;\n",
              "    }\n",
              "\n",
              "    .dataframe tbody tr th {\n",
              "        vertical-align: top;\n",
              "    }\n",
              "\n",
              "    .dataframe thead th {\n",
              "        text-align: right;\n",
              "    }\n",
              "</style>\n",
              "<table border=\"1\" class=\"dataframe\">\n",
              "  <thead>\n",
              "    <tr style=\"text-align: right;\">\n",
              "      <th></th>\n",
              "      <th>bedrooms</th>\n",
              "      <th>bathrooms</th>\n",
              "      <th>area</th>\n",
              "      <th>zipcode</th>\n",
              "    </tr>\n",
              "  </thead>\n",
              "  <tbody>\n",
              "    <tr>\n",
              "      <th>count</th>\n",
              "      <td>535.000000</td>\n",
              "      <td>535.000000</td>\n",
              "      <td>535.000000</td>\n",
              "      <td>535.000000</td>\n",
              "    </tr>\n",
              "    <tr>\n",
              "      <th>mean</th>\n",
              "      <td>3.377570</td>\n",
              "      <td>2.664953</td>\n",
              "      <td>2364.904673</td>\n",
              "      <td>90937.770093</td>\n",
              "    </tr>\n",
              "    <tr>\n",
              "      <th>std</th>\n",
              "      <td>1.160952</td>\n",
              "      <td>0.995077</td>\n",
              "      <td>1224.556982</td>\n",
              "      <td>7141.843144</td>\n",
              "    </tr>\n",
              "    <tr>\n",
              "      <th>min</th>\n",
              "      <td>1.000000</td>\n",
              "      <td>1.000000</td>\n",
              "      <td>701.000000</td>\n",
              "      <td>36373.000000</td>\n",
              "    </tr>\n",
              "    <tr>\n",
              "      <th>25%</th>\n",
              "      <td>3.000000</td>\n",
              "      <td>2.000000</td>\n",
              "      <td>1440.000000</td>\n",
              "      <td>92276.000000</td>\n",
              "    </tr>\n",
              "    <tr>\n",
              "      <th>50%</th>\n",
              "      <td>3.000000</td>\n",
              "      <td>2.500000</td>\n",
              "      <td>2078.000000</td>\n",
              "      <td>92880.000000</td>\n",
              "    </tr>\n",
              "    <tr>\n",
              "      <th>75%</th>\n",
              "      <td>4.000000</td>\n",
              "      <td>3.000000</td>\n",
              "      <td>3067.500000</td>\n",
              "      <td>93510.000000</td>\n",
              "    </tr>\n",
              "    <tr>\n",
              "      <th>max</th>\n",
              "      <td>10.000000</td>\n",
              "      <td>7.000000</td>\n",
              "      <td>9583.000000</td>\n",
              "      <td>98021.000000</td>\n",
              "    </tr>\n",
              "  </tbody>\n",
              "</table>\n",
              "</div>\n",
              "      <button class=\"colab-df-convert\" onclick=\"convertToInteractive('df-9e7e6bc1-a612-4713-b5b0-f7aa8c7f8a38')\"\n",
              "              title=\"Convert this dataframe to an interactive table.\"\n",
              "              style=\"display:none;\">\n",
              "        \n",
              "  <svg xmlns=\"http://www.w3.org/2000/svg\" height=\"24px\"viewBox=\"0 0 24 24\"\n",
              "       width=\"24px\">\n",
              "    <path d=\"M0 0h24v24H0V0z\" fill=\"none\"/>\n",
              "    <path d=\"M18.56 5.44l.94 2.06.94-2.06 2.06-.94-2.06-.94-.94-2.06-.94 2.06-2.06.94zm-11 1L8.5 8.5l.94-2.06 2.06-.94-2.06-.94L8.5 2.5l-.94 2.06-2.06.94zm10 10l.94 2.06.94-2.06 2.06-.94-2.06-.94-.94-2.06-.94 2.06-2.06.94z\"/><path d=\"M17.41 7.96l-1.37-1.37c-.4-.4-.92-.59-1.43-.59-.52 0-1.04.2-1.43.59L10.3 9.45l-7.72 7.72c-.78.78-.78 2.05 0 2.83L4 21.41c.39.39.9.59 1.41.59.51 0 1.02-.2 1.41-.59l7.78-7.78 2.81-2.81c.8-.78.8-2.07 0-2.86zM5.41 20L4 18.59l7.72-7.72 1.47 1.35L5.41 20z\"/>\n",
              "  </svg>\n",
              "      </button>\n",
              "      \n",
              "  <style>\n",
              "    .colab-df-container {\n",
              "      display:flex;\n",
              "      flex-wrap:wrap;\n",
              "      gap: 12px;\n",
              "    }\n",
              "\n",
              "    .colab-df-convert {\n",
              "      background-color: #E8F0FE;\n",
              "      border: none;\n",
              "      border-radius: 50%;\n",
              "      cursor: pointer;\n",
              "      display: none;\n",
              "      fill: #1967D2;\n",
              "      height: 32px;\n",
              "      padding: 0 0 0 0;\n",
              "      width: 32px;\n",
              "    }\n",
              "\n",
              "    .colab-df-convert:hover {\n",
              "      background-color: #E2EBFA;\n",
              "      box-shadow: 0px 1px 2px rgba(60, 64, 67, 0.3), 0px 1px 3px 1px rgba(60, 64, 67, 0.15);\n",
              "      fill: #174EA6;\n",
              "    }\n",
              "\n",
              "    [theme=dark] .colab-df-convert {\n",
              "      background-color: #3B4455;\n",
              "      fill: #D2E3FC;\n",
              "    }\n",
              "\n",
              "    [theme=dark] .colab-df-convert:hover {\n",
              "      background-color: #434B5C;\n",
              "      box-shadow: 0px 1px 3px 1px rgba(0, 0, 0, 0.15);\n",
              "      filter: drop-shadow(0px 1px 2px rgba(0, 0, 0, 0.3));\n",
              "      fill: #FFFFFF;\n",
              "    }\n",
              "  </style>\n",
              "\n",
              "      <script>\n",
              "        const buttonEl =\n",
              "          document.querySelector('#df-9e7e6bc1-a612-4713-b5b0-f7aa8c7f8a38 button.colab-df-convert');\n",
              "        buttonEl.style.display =\n",
              "          google.colab.kernel.accessAllowed ? 'block' : 'none';\n",
              "\n",
              "        async function convertToInteractive(key) {\n",
              "          const element = document.querySelector('#df-9e7e6bc1-a612-4713-b5b0-f7aa8c7f8a38');\n",
              "          const dataTable =\n",
              "            await google.colab.kernel.invokeFunction('convertToInteractive',\n",
              "                                                     [key], {});\n",
              "          if (!dataTable) return;\n",
              "\n",
              "          const docLinkHtml = 'Like what you see? Visit the ' +\n",
              "            '<a target=\"_blank\" href=https://colab.research.google.com/notebooks/data_table.ipynb>data table notebook</a>'\n",
              "            + ' to learn more about interactive tables.';\n",
              "          element.innerHTML = '';\n",
              "          dataTable['output_type'] = 'display_data';\n",
              "          await google.colab.output.renderOutput(dataTable, element);\n",
              "          const docLink = document.createElement('div');\n",
              "          docLink.innerHTML = docLinkHtml;\n",
              "          element.appendChild(docLink);\n",
              "        }\n",
              "      </script>\n",
              "    </div>\n",
              "  </div>\n",
              "  "
            ],
            "text/plain": [
              "         bedrooms   bathrooms         area       zipcode\n",
              "count  535.000000  535.000000   535.000000    535.000000\n",
              "mean     3.377570    2.664953  2364.904673  90937.770093\n",
              "std      1.160952    0.995077  1224.556982   7141.843144\n",
              "min      1.000000    1.000000   701.000000  36373.000000\n",
              "25%      3.000000    2.000000  1440.000000  92276.000000\n",
              "50%      3.000000    2.500000  2078.000000  92880.000000\n",
              "75%      4.000000    3.000000  3067.500000  93510.000000\n",
              "max     10.000000    7.000000  9583.000000  98021.000000"
            ]
          },
          "metadata": {},
          "execution_count": 10
        }
      ]
    },
    {
      "cell_type": "code",
      "source": [
        "df.info()"
      ],
      "metadata": {
        "colab": {
          "base_uri": "https://localhost:8080/"
        },
        "id": "dFqFfyZs4VBb",
        "outputId": "00a92dc5-c716-4f8d-9d81-9907fdf48dce"
      },
      "execution_count": null,
      "outputs": [
        {
          "output_type": "stream",
          "name": "stdout",
          "text": [
            "<class 'pandas.core.frame.DataFrame'>\n",
            "Int64Index: 535 entries, 256 to 405\n",
            "Data columns (total 4 columns):\n",
            " #   Column     Non-Null Count  Dtype  \n",
            "---  ------     --------------  -----  \n",
            " 0   bedrooms   535 non-null    int64  \n",
            " 1   bathrooms  535 non-null    float64\n",
            " 2   area       535 non-null    int64  \n",
            " 3   zipcode    535 non-null    int64  \n",
            "dtypes: float64(1), int64(3)\n",
            "memory usage: 20.9 KB\n"
          ]
        }
      ]
    },
    {
      "cell_type": "markdown",
      "metadata": {
        "id": "5hqzq7OhaoQU"
      },
      "source": [
        "## Zipcode\n",
        "* We have 49 unique values in 'zipcode' feature\n",
        "* Zipcode is not balanced;\n",
        "  * 10 zipcodes represents 408 rows - accounting for more than 70% of total data.\n",
        "  * *21 zipcodes* has only 1 row in it\n",
        "* We maintained only the first three digits for zipcode because the first number representing a certain group of U.S. states and the second and third numbers represent a region in that group of states.\n",
        " * As a result, only *7 zipcodes* have 1 row in it\n",
        "* After that, we did one hot encoding to process categorical variable.\n",
        "* Finally, we have 31 features for numerical data frame"
      ]
    },
    {
      "cell_type": "code",
      "source": [
        "df[\"zipcode\"].nunique()"
      ],
      "metadata": {
        "colab": {
          "base_uri": "https://localhost:8080/"
        },
        "id": "3e43PlgPG1OB",
        "outputId": "0e9e2a1b-c0a9-4131-e30b-07882e4f8174"
      },
      "execution_count": null,
      "outputs": [
        {
          "output_type": "execute_result",
          "data": {
            "text/plain": [
              "49"
            ]
          },
          "metadata": {},
          "execution_count": 74
        }
      ]
    },
    {
      "cell_type": "code",
      "source": [
        "df.groupby('zipcode').size().sort_values(ascending=False)\n"
      ],
      "metadata": {
        "colab": {
          "base_uri": "https://localhost:8080/"
        },
        "id": "pOhBHgG3HcxA",
        "outputId": "6f1eff7e-372c-49d8-f6b8-e1208077a3dc"
      },
      "execution_count": null,
      "outputs": [
        {
          "output_type": "execute_result",
          "data": {
            "text/plain": [
              "zipcode\n",
              "92276    100\n",
              "93510     60\n",
              "93446     54\n",
              "92880     49\n",
              "94501     41\n",
              "91901     32\n",
              "92677     26\n",
              "94531     22\n",
              "96019     12\n",
              "85255     12\n",
              "81524     11\n",
              "85266     11\n",
              "92021     11\n",
              "93111     11\n",
              "95220     10\n",
              "85262      9\n",
              "92802      9\n",
              "62234      7\n",
              "98021      4\n",
              "62214      4\n",
              "91752      3\n",
              "60002      3\n",
              "85377      3\n",
              "81418      2\n",
              "92253      2\n",
              "62025      2\n",
              "92692      2\n",
              "60016      2\n",
              "93924      1\n",
              "93720      1\n",
              "94565      1\n",
              "94568      1\n",
              "95008      1\n",
              "93314      1\n",
              "36373      1\n",
              "93105      1\n",
              "92543      1\n",
              "92040      1\n",
              "90803      1\n",
              "90265      1\n",
              "90211      1\n",
              "90038      1\n",
              "85331      1\n",
              "81521      1\n",
              "62249      1\n",
              "62088      1\n",
              "62034      1\n",
              "60046      1\n",
              "91915      1\n",
              "dtype: int64"
            ]
          },
          "metadata": {},
          "execution_count": 32
        }
      ]
    },
    {
      "cell_type": "code",
      "source": [
        "df['zipcode']=df[\"zipcode\"]//100"
      ],
      "metadata": {
        "id": "dWBeoNOgKCBR"
      },
      "execution_count": null,
      "outputs": []
    },
    {
      "cell_type": "code",
      "source": [
        "df.groupby('zipcode').size().sort_values(ascending=False)"
      ],
      "metadata": {
        "colab": {
          "base_uri": "https://localhost:8080/"
        },
        "id": "lXg5FnabKVaH",
        "outputId": "28caa073-2ffb-49cc-a75c-348550b92d1c"
      },
      "execution_count": null,
      "outputs": [
        {
          "output_type": "execute_result",
          "data": {
            "text/plain": [
              "zipcode\n",
              "922    102\n",
              "945     65\n",
              "935     60\n",
              "928     58\n",
              "934     54\n",
              "919     33\n",
              "852     32\n",
              "926     28\n",
              "960     12\n",
              "622     12\n",
              "815     12\n",
              "931     12\n",
              "920     12\n",
              "952     10\n",
              "600      6\n",
              "980      4\n",
              "853      4\n",
              "620      4\n",
              "917      3\n",
              "902      2\n",
              "814      2\n",
              "925      1\n",
              "908      1\n",
              "933      1\n",
              "900      1\n",
              "937      1\n",
              "939      1\n",
              "950      1\n",
              "363      1\n",
              "dtype: int64"
            ]
          },
          "metadata": {},
          "execution_count": 76
        }
      ]
    },
    {
      "cell_type": "code",
      "execution_count": null,
      "metadata": {
        "id": "rq_-sRVdaoQU"
      },
      "outputs": [],
      "source": [
        "df = pd.get_dummies(df, columns=['zipcode'], drop_first=True)"
      ]
    },
    {
      "cell_type": "code",
      "execution_count": null,
      "metadata": {
        "id": "HzlLx4lLaoQU",
        "colab": {
          "base_uri": "https://localhost:8080/"
        },
        "outputId": "aa29baf0-529b-40be-c28a-0ab9e2470603"
      },
      "outputs": [
        {
          "output_type": "execute_result",
          "data": {
            "text/plain": [
              "(535, 31)"
            ]
          },
          "metadata": {},
          "execution_count": 78
        }
      ],
      "source": [
        "df.shape"
      ]
    },
    {
      "cell_type": "markdown",
      "metadata": {
        "id": "3IQCiUP5aoQU"
      },
      "source": [
        "# **Build model**"
      ]
    },
    {
      "cell_type": "markdown",
      "metadata": {
        "id": "rAAVlRcbaoQX"
      },
      "source": [
        "* Data augmentation: we performed data augmentation to avoid overfitting.\n",
        "\n",
        "* Normalization: We used BatchNormalization to standardize our data\n",
        "\n",
        "* Pooling: We conducted pooling to compress data and reduce complexity, so that we can reduce overfitting.\n",
        "\n",
        "* Padding&Stride: At the same time, we also adjusted padding to prevent the transformation from down-sampling and did strides.\n",
        "\n",
        "* Flatten: Under each branch, we used flatten to convert the data into a 1-dimensional array for inputting it to the next layer\n",
        "\n",
        "* We used 'relu' activation function for hidden layers and 'linear' activation for final output function because this is regression problem."
      ]
    },
    {
      "cell_type": "markdown",
      "metadata": {
        "id": "vhnwnEtEOeXd"
      },
      "source": [
        "# Create a Multi-Modal NN"
      ]
    },
    {
      "cell_type": "markdown",
      "metadata": {
        "id": "A6ihDDUOLJo2"
      },
      "source": [
        "#*Define Your Model*"
      ]
    },
    {
      "cell_type": "code",
      "execution_count": null,
      "metadata": {
        "id": "ZgRWAx8p55x_"
      },
      "outputs": [],
      "source": [
        "def build_model(a=128, b=128, c=3, d=31): \n",
        "    data_augmentation = keras.Sequential([\n",
        "      layers.RandomFlip(\"horizontal\"),\n",
        "      layers.RandomRotation(0.1),\n",
        "      layers.RandomZoom(0.2),\n",
        "    ])\n",
        "    \n",
        "    input_image1 = layers.Input(shape=(a,b,c), name=\"Images1\")\n",
        "    x1 = data_augmentation(input_image1)\n",
        "    x1 = layers.BatchNormalization()(x1)\n",
        "    x1 = layers.Conv2D(filters=32,kernel_size=3,padding=\"same\",activation=\"relu\")(x1)\n",
        "    x1 = layers.MaxPool2D(2,strides=2)(x1)\n",
        "    x1 = layers.Conv2D(filters=64,kernel_size=3,padding=\"same\",activation=\"relu\")(x1)\n",
        "    x1 = layers.MaxPool2D(2,strides=2)(x1)\n",
        "    image_output1 = layers.Flatten()(x1)\n",
        "\n",
        "    input_image2 = layers.Input(shape=(a,b,c), name=\"Images2\")\n",
        "    x2 = data_augmentation(input_image2)\n",
        "    x2 = layers.BatchNormalization()(x2)\n",
        "    x2 = layers.Conv2D(filters=32,kernel_size=3,padding=\"same\",activation=\"relu\")(x2)\n",
        "    x2 = layers.MaxPool2D(2,strides=2)(x2)\n",
        "    x2 = layers.Conv2D(filters=64,kernel_size=3,padding=\"same\",activation=\"relu\")(x2)\n",
        "    x2 = layers.MaxPool2D(2,strides=2)(x2)\n",
        "    image_output2 = layers.Flatten()(x2)\n",
        "\n",
        "    input_image3 = layers.Input(shape=(a,b,c), name=\"Images3\")\n",
        "    x3 = data_augmentation(input_image3)\n",
        "    x3 = layers.BatchNormalization()(x3)\n",
        "    x3 = layers.Conv2D(filters=32,kernel_size=3,padding=\"same\",activation=\"relu\")(x3)\n",
        "    x3 = layers.MaxPool2D(2,strides=2)(x3)\n",
        "    x3 = layers.Conv2D(filters=64,kernel_size=3,padding=\"same\",activation=\"relu\")(x3)\n",
        "    x3 = layers.MaxPool2D(2,strides=2)(x3)\n",
        "    image_output3 = layers.Flatten()(x3)\n",
        "\n",
        "\n",
        "    input_image4 = layers.Input(shape=(a,b,c), name=\"Images4\")\n",
        "    x4 = data_augmentation(input_image4)\n",
        "    x4 = layers.BatchNormalization()(x4)\n",
        "    x4 = layers.Conv2D(filters=32,kernel_size=3,padding=\"same\",activation=\"relu\")(x4)\n",
        "    x4 = layers.MaxPool2D(2,strides=2)(x4)\n",
        "    x4 = layers.Conv2D(filters=64,kernel_size=3,padding=\"same\",activation=\"relu\")(x4)\n",
        "    x4 = layers.MaxPool2D(2,strides=2)(x4)\n",
        "    image_output4 = layers.Flatten()(x4)\n",
        "\n",
        "\n",
        "    input_numeric = layers.Input(shape=d,name=\"Numbers\")\n",
        "    x5 = layers.BatchNormalization()(input_numeric)\n",
        "    x5 = layers.Dense(3,activation=\"relu\")(x5)\n",
        "    x5 = layers.Dense(3,activation=\"relu\")(x5)\n",
        "    numeric_output = layers.Dense(5,activation=\"relu\")(x5)\n",
        "\n",
        "\n",
        "    merge = layers.Concatenate()([image_output1, image_output2, image_output3, image_output4, numeric_output])\n",
        "    x6 = layers.Dense(5,activation=\"relu\")(merge)\n",
        "    x6 = layers.Dense(5, activation=\"relu\")(x6)\n",
        "    final_output = layers.Dense(1, activation=\"linear\")(x6)\n",
        "\n",
        "    model = keras.Model(inputs=[input_image1, input_image2, input_image3, input_image4,input_numeric],outputs=final_output)\n",
        "\n",
        "    model.compile(optimizer=\"adam\",loss=\"mae\", metrics=[\"mae\"])\n",
        "\n",
        "    return model"
      ]
    },
    {
      "cell_type": "markdown",
      "metadata": {
        "id": "n5JOrAqTLF-O"
      },
      "source": [
        "#*Fit Your Model*"
      ]
    },
    {
      "cell_type": "markdown",
      "metadata": {
        "id": "t0b-hIQbaoQV"
      },
      "source": [
        "# Cross Validation\n",
        "* We performed cross validation to ensure the compatibility and evaluate the model"
      ]
    },
    {
      "cell_type": "code",
      "execution_count": null,
      "metadata": {
        "id": "w_PzrT_L5-Tp",
        "colab": {
          "base_uri": "https://localhost:8080/"
        },
        "outputId": "2fa92675-e544-4a47-84fd-19d81d4bb0ad"
      },
      "outputs": [
        {
          "output_type": "stream",
          "name": "stdout",
          "text": [
            "In total, we have 535 training observations.\n",
            "With a k of 5 we have 107 observations per fold.\n",
            "\n",
            "Processing fold #: 0\n",
            "Validation data includes observations 0 through 106\n",
            "Training data includes observations 0 through -1 joined with observations 107 through the final observation.\n",
            "\n",
            "Epoch 1/10\n",
            "18/18 [==============================] - 7s 173ms/step - loss: 596562.9375 - mae: 596562.9375 - val_loss: 554912.3750 - val_mae: 554912.3750\n",
            "Epoch 2/10\n",
            "18/18 [==============================] - 2s 123ms/step - loss: 578812.8750 - mae: 578813.0000 - val_loss: 528266.9375 - val_mae: 528266.9375\n",
            "Epoch 3/10\n",
            "18/18 [==============================] - 2s 124ms/step - loss: 478376.0625 - mae: 478376.0625 - val_loss: 422245.2812 - val_mae: 422245.2812\n",
            "Epoch 4/10\n",
            "18/18 [==============================] - 2s 123ms/step - loss: 333764.1250 - mae: 333764.1250 - val_loss: 344409.8438 - val_mae: 344409.8438\n",
            "Epoch 5/10\n",
            "18/18 [==============================] - 2s 122ms/step - loss: 324136.0312 - mae: 324136.0312 - val_loss: 377814.1250 - val_mae: 377814.1250\n",
            "Epoch 6/10\n",
            "18/18 [==============================] - 2s 124ms/step - loss: 320456.1562 - mae: 320456.1250 - val_loss: 365481.1875 - val_mae: 365481.1875\n",
            "Epoch 7/10\n",
            "18/18 [==============================] - 2s 124ms/step - loss: 322215.0938 - mae: 322215.0938 - val_loss: 368139.5000 - val_mae: 368139.5000\n",
            "Epoch 8/10\n",
            "18/18 [==============================] - 2s 123ms/step - loss: 318713.1562 - mae: 318713.1562 - val_loss: 361276.1562 - val_mae: 361276.1562\n",
            "Epoch 9/10\n",
            "18/18 [==============================] - 2s 125ms/step - loss: 318661.8438 - mae: 318661.8438 - val_loss: 360113.9688 - val_mae: 360113.9688\n",
            "Epoch 10/10\n",
            "18/18 [==============================] - 2s 123ms/step - loss: 320012.1250 - mae: 320012.1250 - val_loss: 352928.9062 - val_mae: 352928.9062\n",
            "Processing fold #: 1\n",
            "Validation data includes observations 107 through 213\n",
            "Training data includes observations 0 through 106 joined with observations 214 through the final observation.\n",
            "\n",
            "Epoch 1/10\n",
            "18/18 [==============================] - 6s 151ms/step - loss: 571372.8125 - mae: 571372.8125 - val_loss: 653655.5625 - val_mae: 653655.5000\n",
            "Epoch 2/10\n",
            "18/18 [==============================] - 2s 125ms/step - loss: 550494.0625 - mae: 550494.0625 - val_loss: 621733.2500 - val_mae: 621733.2500\n",
            "Epoch 3/10\n",
            "18/18 [==============================] - 2s 124ms/step - loss: 451323.9688 - mae: 451323.9688 - val_loss: 503699.2500 - val_mae: 503699.2500\n",
            "Epoch 4/10\n",
            "18/18 [==============================] - 2s 123ms/step - loss: 334427.5625 - mae: 334427.5938 - val_loss: 411848.1562 - val_mae: 411848.1562\n",
            "Epoch 5/10\n",
            "18/18 [==============================] - 2s 124ms/step - loss: 318512.5312 - mae: 318512.5312 - val_loss: 446710.6250 - val_mae: 446710.6250\n",
            "Epoch 6/10\n",
            "18/18 [==============================] - 2s 122ms/step - loss: 312667.0938 - mae: 312667.0938 - val_loss: 430494.9062 - val_mae: 430494.9062\n",
            "Epoch 7/10\n",
            "18/18 [==============================] - 2s 124ms/step - loss: 312485.0000 - mae: 312485.0000 - val_loss: 438721.1562 - val_mae: 438721.1562\n",
            "Epoch 8/10\n",
            "18/18 [==============================] - 2s 133ms/step - loss: 312708.6562 - mae: 312708.6562 - val_loss: 435640.0625 - val_mae: 435640.0625\n",
            "Epoch 9/10\n",
            "18/18 [==============================] - 2s 128ms/step - loss: 312239.4688 - mae: 312239.4688 - val_loss: 428323.1875 - val_mae: 428323.1875\n",
            "Epoch 10/10\n",
            "18/18 [==============================] - 2s 123ms/step - loss: 313232.8125 - mae: 313232.8125 - val_loss: 421502.0938 - val_mae: 421502.0938\n",
            "Processing fold #: 2\n",
            "Validation data includes observations 214 through 320\n",
            "Training data includes observations 0 through 213 joined with observations 321 through the final observation.\n",
            "\n",
            "Epoch 1/10\n",
            "18/18 [==============================] - 6s 149ms/step - loss: 591371.1250 - mae: 591371.1250 - val_loss: 566813.0625 - val_mae: 566813.0625\n",
            "Epoch 2/10\n",
            "18/18 [==============================] - 2s 123ms/step - loss: 553907.9375 - mae: 553907.9375 - val_loss: 507381.9688 - val_mae: 507381.9688\n",
            "Epoch 3/10\n",
            "18/18 [==============================] - 2s 122ms/step - loss: 413147.9688 - mae: 413147.9688 - val_loss: 403731.6250 - val_mae: 403731.6250\n",
            "Epoch 4/10\n",
            "18/18 [==============================] - 2s 123ms/step - loss: 316183.3125 - mae: 316183.3125 - val_loss: 392102.6875 - val_mae: 392102.6875\n",
            "Epoch 5/10\n",
            "18/18 [==============================] - 2s 133ms/step - loss: 310945.5625 - mae: 310945.5625 - val_loss: 399233.0000 - val_mae: 399233.0000\n",
            "Epoch 6/10\n",
            "18/18 [==============================] - 2s 123ms/step - loss: 308642.3750 - mae: 308642.3750 - val_loss: 399511.3125 - val_mae: 399511.3125\n",
            "Epoch 7/10\n",
            "18/18 [==============================] - 2s 123ms/step - loss: 309279.4688 - mae: 309279.4688 - val_loss: 401958.5312 - val_mae: 401958.5312\n",
            "Epoch 8/10\n",
            "18/18 [==============================] - 2s 126ms/step - loss: 307249.5625 - mae: 307249.5625 - val_loss: 394519.8125 - val_mae: 394519.8125\n",
            "Epoch 9/10\n",
            "18/18 [==============================] - 2s 123ms/step - loss: 310839.5625 - mae: 310839.5625 - val_loss: 398766.4062 - val_mae: 398766.4062\n",
            "Epoch 10/10\n",
            "18/18 [==============================] - 2s 122ms/step - loss: 308213.9375 - mae: 308213.9375 - val_loss: 394350.8125 - val_mae: 394350.8125\n",
            "Processing fold #: 3\n",
            "Validation data includes observations 321 through 427\n",
            "Training data includes observations 0 through 320 joined with observations 428 through the final observation.\n",
            "\n",
            "Epoch 1/10\n",
            "18/18 [==============================] - 6s 160ms/step - loss: 577516.4375 - mae: 577516.4375 - val_loss: 631792.8125 - val_mae: 631792.8125\n",
            "Epoch 2/10\n",
            "18/18 [==============================] - 2s 124ms/step - loss: 564081.5625 - mae: 564081.5000 - val_loss: 610809.3750 - val_mae: 610809.3750\n",
            "Epoch 3/10\n",
            "18/18 [==============================] - 2s 124ms/step - loss: 488318.5938 - mae: 488318.5938 - val_loss: 525104.6875 - val_mae: 525104.6875\n",
            "Epoch 4/10\n",
            "18/18 [==============================] - 2s 124ms/step - loss: 358194.1250 - mae: 358194.1250 - val_loss: 405272.6875 - val_mae: 405272.6875\n",
            "Epoch 5/10\n",
            "18/18 [==============================] - 2s 122ms/step - loss: 318539.0000 - mae: 318539.0000 - val_loss: 422177.7812 - val_mae: 422177.8750\n",
            "Epoch 6/10\n",
            "18/18 [==============================] - 2s 133ms/step - loss: 314794.2188 - mae: 314794.2188 - val_loss: 427205.0000 - val_mae: 427205.0000\n",
            "Epoch 7/10\n",
            "18/18 [==============================] - 2s 127ms/step - loss: 314891.2812 - mae: 314891.2812 - val_loss: 426274.5000 - val_mae: 426274.4688\n",
            "Epoch 8/10\n",
            "18/18 [==============================] - 2s 123ms/step - loss: 315564.7188 - mae: 315564.7188 - val_loss: 420244.0312 - val_mae: 420244.0312\n",
            "Epoch 9/10\n",
            "18/18 [==============================] - 2s 123ms/step - loss: 313369.0938 - mae: 313369.0938 - val_loss: 415295.2188 - val_mae: 415295.2188\n",
            "Epoch 10/10\n",
            "18/18 [==============================] - 2s 123ms/step - loss: 316760.1562 - mae: 316760.1562 - val_loss: 408911.8750 - val_mae: 408911.8750\n",
            "Processing fold #: 4\n",
            "Validation data includes observations 428 through 534\n",
            "Training data includes observations 0 through 427 joined with observations 535 through the final observation.\n",
            "\n",
            "Epoch 1/10\n",
            "18/18 [==============================] - 6s 154ms/step - loss: 603511.5625 - mae: 603511.5625 - val_loss: 520268.9375 - val_mae: 520268.9375\n",
            "Epoch 2/10\n",
            "18/18 [==============================] - 2s 123ms/step - loss: 570394.7500 - mae: 570394.7500 - val_loss: 470155.3750 - val_mae: 470155.3750\n",
            "Epoch 3/10\n",
            "18/18 [==============================] - 2s 124ms/step - loss: 433044.5000 - mae: 433044.5000 - val_loss: 336417.1250 - val_mae: 336417.1250\n",
            "Epoch 4/10\n",
            "18/18 [==============================] - 2s 124ms/step - loss: 341734.3125 - mae: 341734.3125 - val_loss: 316086.4375 - val_mae: 316086.4375\n",
            "Epoch 5/10\n",
            "18/18 [==============================] - 2s 123ms/step - loss: 334672.0000 - mae: 334672.0000 - val_loss: 326088.6875 - val_mae: 326088.6875\n",
            "Epoch 6/10\n",
            "18/18 [==============================] - 2s 123ms/step - loss: 335622.3438 - mae: 335622.3438 - val_loss: 323196.5938 - val_mae: 323196.5938\n",
            "Epoch 7/10\n",
            "18/18 [==============================] - 2s 124ms/step - loss: 333659.9375 - mae: 333659.9375 - val_loss: 326948.7188 - val_mae: 326948.7188\n",
            "Epoch 8/10\n",
            "18/18 [==============================] - 2s 122ms/step - loss: 334531.1875 - mae: 334531.1875 - val_loss: 311493.7500 - val_mae: 311493.7500\n",
            "Epoch 9/10\n",
            "18/18 [==============================] - 2s 124ms/step - loss: 334915.6250 - mae: 334915.6250 - val_loss: 317050.5000 - val_mae: 317050.5000\n",
            "Epoch 10/10\n",
            "18/18 [==============================] - 2s 123ms/step - loss: 333374.8125 - mae: 333374.8125 - val_loss: 302928.2188 - val_mae: 302928.2188\n"
          ]
        }
      ],
      "source": [
        "k = 5\n",
        "num_val_samples = len(df) // k # floor division (i.e., round down to nearest integer.)\n",
        "num_epochs = 10\n",
        "batch_size = 25\n",
        "all_train_mae_histories = []\n",
        "all_val_mae_histories = []  \n",
        "\n",
        "\n",
        "print(\"In total, we have\",len(df),\"training observations.\")\n",
        "print(\"With a k of\",k,\"we have\",num_val_samples,\"observations per fold.\\n\")\n",
        "\n",
        "for i in range(k): # the folds are going to be indexed 0 through 3 if k = 4\n",
        "    print(\"Processing fold #:\",i)\n",
        "\n",
        "    # if I slice past the end of the array, it just gives me what it can find! No errors.\n",
        "    # This is important here, because the last fold won't produce an error, despite our slice going well beyond the end of the array.\n",
        "    print(\"Validation data includes observations\",i*num_val_samples,\"through\",(i+1)*num_val_samples-1) # minus 1 because a slice is up to and not including the second index.\n",
        "    \n",
        "    val_data1 = front_image[i * num_val_samples: (i + 1) * num_val_samples] \n",
        "    val_data2 = kitchen_image[i * num_val_samples: (i + 1) * num_val_samples]\n",
        "    val_data3 = bathroom_image[i * num_val_samples: (i + 1) * num_val_samples]\n",
        "    val_data4 = bedroom_iamge[i * num_val_samples: (i + 1) * num_val_samples]\n",
        "    val_data5 = df[i * num_val_samples: (i + 1) * num_val_samples]\n",
        "\n",
        "    val_targets = labels[i * num_val_samples: (i + 1) * num_val_samples]\n",
        "    \n",
        "    print(\"Training data includes observations 0 through\",i*num_val_samples-1,\"joined with observations\",(i+1)*num_val_samples,\"through the final observation.\\n\")\n",
        "    \n",
        "    partial_train_data1 = np.concatenate(\n",
        "        [front_image[:i * num_val_samples],\n",
        "         front_image[(i + 1) * num_val_samples:]],\n",
        "        axis=0)\n",
        "    \n",
        "    partial_train_data2 = np.concatenate(\n",
        "        [kitchen_image[:i * num_val_samples],\n",
        "         kitchen_image[(i + 1) * num_val_samples:]],\n",
        "        axis=0)    \n",
        "\n",
        "    partial_train_data3 = np.concatenate(\n",
        "        [bathroom_image[:i * num_val_samples],\n",
        "         bathroom_image[(i + 1) * num_val_samples:]],\n",
        "        axis=0)\n",
        "\n",
        "    partial_train_data4 = np.concatenate(\n",
        "        [bedroom_iamge[:i * num_val_samples],\n",
        "         bedroom_iamge[(i + 1) * num_val_samples:]],\n",
        "        axis=0)\n",
        "            \n",
        "    partial_train_data5 = np.concatenate(\n",
        "        [df[:i * num_val_samples],\n",
        "         df[(i + 1) * num_val_samples:]],\n",
        "        axis=0)\n",
        "    \n",
        "    partial_train_targets = np.concatenate(\n",
        "        [labels[:i * num_val_samples],\n",
        "         labels[(i + 1) * num_val_samples:]],\n",
        "        axis=0)\n",
        "    \n",
        "    model = build_model()\n",
        "\n",
        "\n",
        "    history = model.fit(x=[partial_train_data1, partial_train_data2,partial_train_data3,partial_train_data4,partial_train_data5], y=partial_train_targets,\n",
        "                        validation_data=([val_data1,val_data2,val_data3,val_data4,val_data5], val_targets),\n",
        "                        epochs=num_epochs, batch_size=batch_size, verbose=1)\n",
        "  \n",
        "    train_mae_history = history.history['mae']\n",
        "    val_mae_history = history.history['val_mae']   \n",
        "\n",
        "    all_train_mae_histories.append(train_mae_history)\n",
        "    all_val_mae_histories.append(val_mae_history)\n",
        "\n",
        "\n",
        "average_train_mae_history = [np.mean([x[i] for x in all_train_mae_histories]) for i in range(num_epochs)]\n",
        "average_val_mae_history = [np.mean([x[i] for x in all_val_mae_histories]) for i in range(num_epochs)]"
      ]
    },
    {
      "cell_type": "markdown",
      "metadata": {
        "id": "XcD7R5-UG8sl"
      },
      "source": [
        "Plot your model's loss over epochs to undertand fitting / overfitting."
      ]
    },
    {
      "cell_type": "code",
      "execution_count": null,
      "metadata": {
        "id": "S0G4LFN27uPA",
        "colab": {
          "base_uri": "https://localhost:8080/",
          "height": 282
        },
        "outputId": "de040a82-76c1-47ea-9651-3a1c2b2847b6"
      },
      "outputs": [
        {
          "output_type": "display_data",
          "data": {
            "image/png": "[encoded data removed]",
            "text/plain": [
              "<Figure size 432x288 with 1 Axes>"
            ]
          },
          "metadata": {
            "needs_background": "light"
          }
        }
      ],
      "source": [
        "import matplotlib.pyplot as plt\n",
        "\n",
        "plt.plot(average_train_mae_history, c=\"r\")\n",
        "plt.plot(average_val_mae_history,c=\"b\")\n",
        "plt.legend(['Train','Validation'],title=\"Loss\")\n",
        "plt.xlabel(\"Epochs\")\n",
        "plt.ylabel(\"Average Validation MAE Across k Folds\")\n",
        "plt.show()"
      ]
    },
    {
      "cell_type": "markdown",
      "metadata": {
        "id": "qPtgLo7waoQX"
      },
      "source": [
        "# Final Model Configuration"
      ]
    },
    {
      "cell_type": "markdown",
      "source": [
        "We decided 10 epochs and 25 batch size for our final model."
      ],
      "metadata": {
        "id": "XBRBIXteUp6v"
      }
    },
    {
      "cell_type": "code",
      "execution_count": null,
      "metadata": {
        "id": "BEnNW4lUaoQX",
        "colab": {
          "base_uri": "https://localhost:8080/"
        },
        "outputId": "1cfc6e66-3f8d-4973-8101-070ede6651c1"
      },
      "outputs": [
        {
          "output_type": "stream",
          "name": "stdout",
          "text": [
            "Epoch 1/8\n",
            "22/22 [==============================] - 7s 114ms/step - loss: 588687.1875 - mae: 588687.1875\n",
            "Epoch 2/8\n",
            "22/22 [==============================] - 2s 98ms/step - loss: 573008.5625 - mae: 573008.5625\n",
            "Epoch 3/8\n",
            "22/22 [==============================] - 2s 98ms/step - loss: 477292.5312 - mae: 477292.5312\n",
            "Epoch 4/8\n",
            "22/22 [==============================] - 2s 99ms/step - loss: 341145.5312 - mae: 341145.5312\n",
            "Epoch 5/8\n",
            "22/22 [==============================] - 2s 99ms/step - loss: 320754.7812 - mae: 320754.7812\n",
            "Epoch 6/8\n",
            "22/22 [==============================] - 2s 98ms/step - loss: 319242.1562 - mae: 319242.1562\n",
            "Epoch 7/8\n",
            "22/22 [==============================] - 2s 99ms/step - loss: 318986.0938 - mae: 318986.0938\n",
            "Epoch 8/8\n",
            "22/22 [==============================] - 2s 99ms/step - loss: 319313.9062 - mae: 319313.9062\n"
          ]
        },
        {
          "output_type": "execute_result",
          "data": {
            "text/plain": [
              "<keras.callbacks.History at 0x7f6136a24f90>"
            ]
          },
          "metadata": {},
          "execution_count": 15
        }
      ],
      "source": [
        "model = build_model()\n",
        "model.fit(x=[front_image, kitchen_image, bathroom_image, bedroom_iamge, df],y=labels,epochs=10, batch_size=25)"
      ]
    },
    {
      "cell_type": "code",
      "execution_count": null,
      "metadata": {
        "id": "xX8oMfNEaoQX",
        "colab": {
          "base_uri": "https://localhost:8080/"
        },
        "outputId": "717260f8-6ee8-4bad-a177-21e34e4477e2"
      },
      "outputs": [
        {
          "output_type": "stream",
          "name": "stdout",
          "text": [
            "Model: \"model_5\"\n",
            "__________________________________________________________________________________________________\n",
            " Layer (type)                   Output Shape         Param #     Connected to                     \n",
            "==================================================================================================\n",
            " Images1 (InputLayer)           [(None, 128, 128, 3  0           []                               \n",
            "                                )]                                                                \n",
            "                                                                                                  \n",
            " Images2 (InputLayer)           [(None, 128, 128, 3  0           []                               \n",
            "                                )]                                                                \n",
            "                                                                                                  \n",
            " Images3 (InputLayer)           [(None, 128, 128, 3  0           []                               \n",
            "                                )]                                                                \n",
            "                                                                                                  \n",
            " Images4 (InputLayer)           [(None, 128, 128, 3  0           []                               \n",
            "                                )]                                                                \n",
            "                                                                                                  \n",
            " sequential_5 (Sequential)      (None, 128, 128, 3)  0           ['Images1[0][0]',                \n",
            "                                                                  'Images2[0][0]',                \n",
            "                                                                  'Images3[0][0]',                \n",
            "                                                                  'Images4[0][0]']                \n",
            "                                                                                                  \n",
            " batch_normalization_25 (BatchN  (None, 128, 128, 3)  12         ['sequential_5[0][0]']           \n",
            " ormalization)                                                                                    \n",
            "                                                                                                  \n",
            " batch_normalization_26 (BatchN  (None, 128, 128, 3)  12         ['sequential_5[1][0]']           \n",
            " ormalization)                                                                                    \n",
            "                                                                                                  \n",
            " batch_normalization_27 (BatchN  (None, 128, 128, 3)  12         ['sequential_5[2][0]']           \n",
            " ormalization)                                                                                    \n",
            "                                                                                                  \n",
            " batch_normalization_28 (BatchN  (None, 128, 128, 3)  12         ['sequential_5[3][0]']           \n",
            " ormalization)                                                                                    \n",
            "                                                                                                  \n",
            " conv2d_40 (Conv2D)             (None, 128, 128, 32  896         ['batch_normalization_25[0][0]'] \n",
            "                                )                                                                 \n",
            "                                                                                                  \n",
            " conv2d_42 (Conv2D)             (None, 128, 128, 32  896         ['batch_normalization_26[0][0]'] \n",
            "                                )                                                                 \n",
            "                                                                                                  \n",
            " conv2d_44 (Conv2D)             (None, 128, 128, 32  896         ['batch_normalization_27[0][0]'] \n",
            "                                )                                                                 \n",
            "                                                                                                  \n",
            " conv2d_46 (Conv2D)             (None, 128, 128, 32  896         ['batch_normalization_28[0][0]'] \n",
            "                                )                                                                 \n",
            "                                                                                                  \n",
            " Numbers (InputLayer)           [(None, 51)]         0           []                               \n",
            "                                                                                                  \n",
            " max_pooling2d_40 (MaxPooling2D  (None, 64, 64, 32)  0           ['conv2d_40[0][0]']              \n",
            " )                                                                                                \n",
            "                                                                                                  \n",
            " max_pooling2d_42 (MaxPooling2D  (None, 64, 64, 32)  0           ['conv2d_42[0][0]']              \n",
            " )                                                                                                \n",
            "                                                                                                  \n",
            " max_pooling2d_44 (MaxPooling2D  (None, 64, 64, 32)  0           ['conv2d_44[0][0]']              \n",
            " )                                                                                                \n",
            "                                                                                                  \n",
            " max_pooling2d_46 (MaxPooling2D  (None, 64, 64, 32)  0           ['conv2d_46[0][0]']              \n",
            " )                                                                                                \n",
            "                                                                                                  \n",
            " batch_normalization_29 (BatchN  (None, 51)          204         ['Numbers[0][0]']                \n",
            " ormalization)                                                                                    \n",
            "                                                                                                  \n",
            " conv2d_41 (Conv2D)             (None, 64, 64, 32)   9248        ['max_pooling2d_40[0][0]']       \n",
            "                                                                                                  \n",
            " conv2d_43 (Conv2D)             (None, 64, 64, 32)   9248        ['max_pooling2d_42[0][0]']       \n",
            "                                                                                                  \n",
            " conv2d_45 (Conv2D)             (None, 64, 64, 32)   9248        ['max_pooling2d_44[0][0]']       \n",
            "                                                                                                  \n",
            " conv2d_47 (Conv2D)             (None, 64, 64, 32)   9248        ['max_pooling2d_46[0][0]']       \n",
            "                                                                                                  \n",
            " dense_30 (Dense)               (None, 3)            156         ['batch_normalization_29[0][0]'] \n",
            "                                                                                                  \n",
            " max_pooling2d_41 (MaxPooling2D  (None, 32, 32, 32)  0           ['conv2d_41[0][0]']              \n",
            " )                                                                                                \n",
            "                                                                                                  \n",
            " max_pooling2d_43 (MaxPooling2D  (None, 32, 32, 32)  0           ['conv2d_43[0][0]']              \n",
            " )                                                                                                \n",
            "                                                                                                  \n",
            " max_pooling2d_45 (MaxPooling2D  (None, 32, 32, 32)  0           ['conv2d_45[0][0]']              \n",
            " )                                                                                                \n",
            "                                                                                                  \n",
            " max_pooling2d_47 (MaxPooling2D  (None, 32, 32, 32)  0           ['conv2d_47[0][0]']              \n",
            " )                                                                                                \n",
            "                                                                                                  \n",
            " dense_31 (Dense)               (None, 3)            12          ['dense_30[0][0]']               \n",
            "                                                                                                  \n",
            " flatten_20 (Flatten)           (None, 32768)        0           ['max_pooling2d_41[0][0]']       \n",
            "                                                                                                  \n",
            " flatten_21 (Flatten)           (None, 32768)        0           ['max_pooling2d_43[0][0]']       \n",
            "                                                                                                  \n",
            " flatten_22 (Flatten)           (None, 32768)        0           ['max_pooling2d_45[0][0]']       \n",
            "                                                                                                  \n",
            " flatten_23 (Flatten)           (None, 32768)        0           ['max_pooling2d_47[0][0]']       \n",
            "                                                                                                  \n",
            " dense_32 (Dense)               (None, 5)            20          ['dense_31[0][0]']               \n",
            "                                                                                                  \n",
            " concatenate_5 (Concatenate)    (None, 131077)       0           ['flatten_20[0][0]',             \n",
            "                                                                  'flatten_21[0][0]',             \n",
            "                                                                  'flatten_22[0][0]',             \n",
            "                                                                  'flatten_23[0][0]',             \n",
            "                                                                  'dense_32[0][0]']               \n",
            "                                                                                                  \n",
            " dense_33 (Dense)               (None, 5)            655390      ['concatenate_5[0][0]']          \n",
            "                                                                                                  \n",
            " dense_34 (Dense)               (None, 5)            30          ['dense_33[0][0]']               \n",
            "                                                                                                  \n",
            " dense_35 (Dense)               (None, 1)            6           ['dense_34[0][0]']               \n",
            "                                                                                                  \n",
            "==================================================================================================\n",
            "Total params: 696,442\n",
            "Trainable params: 696,316\n",
            "Non-trainable params: 126\n",
            "__________________________________________________________________________________________________\n"
          ]
        }
      ],
      "source": [
        "model.summary()"
      ]
    },
    {
      "cell_type": "markdown",
      "metadata": {
        "id": "3X1CKkcYOe97"
      },
      "source": [
        "# Use a Pre-Trained Model"
      ]
    },
    {
      "cell_type": "markdown",
      "metadata": {
        "id": "5g9_-EMaCkwS"
      },
      "source": [
        "#*Load Pre-Trained Model's CNN layers*"
      ]
    },
    {
      "cell_type": "markdown",
      "source": [
        "We will use vgg16 for the pretrained moodel"
      ],
      "metadata": {
        "id": "dh8bPcYCU1lZ"
      }
    },
    {
      "cell_type": "code",
      "execution_count": null,
      "metadata": {
        "id": "WNcddw2hO35M",
        "colab": {
          "base_uri": "https://localhost:8080/"
        },
        "outputId": "68e025cd-fc26-4d7d-a0ae-4f4bc4335e67"
      },
      "outputs": [
        {
          "output_type": "stream",
          "name": "stdout",
          "text": [
            "Downloading data from https://storage.googleapis.com/tensorflow/keras-applications/vgg16/vgg16_weights_tf_dim_ordering_tf_kernels_notop.h5\n",
            "58892288/58889256 [==============================] - 1s 0us/step\n",
            "58900480/58889256 [==============================] - 1s 0us/step\n",
            "Model: \"vgg16\"\n",
            "_________________________________________________________________\n",
            " Layer (type)                Output Shape              Param #   \n",
            "=================================================================\n",
            " input_1 (InputLayer)        [(None, 128, 128, 3)]     0         \n",
            "                                                                 \n",
            " block1_conv1 (Conv2D)       (None, 128, 128, 64)      1792      \n",
            "                                                                 \n",
            " block1_conv2 (Conv2D)       (None, 128, 128, 64)      36928     \n",
            "                                                                 \n",
            " block1_pool (MaxPooling2D)  (None, 64, 64, 64)        0         \n",
            "                                                                 \n",
            " block2_conv1 (Conv2D)       (None, 64, 64, 128)       73856     \n",
            "                                                                 \n",
            " block2_conv2 (Conv2D)       (None, 64, 64, 128)       147584    \n",
            "                                                                 \n",
            " block2_pool (MaxPooling2D)  (None, 32, 32, 128)       0         \n",
            "                                                                 \n",
            " block3_conv1 (Conv2D)       (None, 32, 32, 256)       295168    \n",
            "                                                                 \n",
            " block3_conv2 (Conv2D)       (None, 32, 32, 256)       590080    \n",
            "                                                                 \n",
            " block3_conv3 (Conv2D)       (None, 32, 32, 256)       590080    \n",
            "                                                                 \n",
            " block3_pool (MaxPooling2D)  (None, 16, 16, 256)       0         \n",
            "                                                                 \n",
            " block4_conv1 (Conv2D)       (None, 16, 16, 512)       1180160   \n",
            "                                                                 \n",
            " block4_conv2 (Conv2D)       (None, 16, 16, 512)       2359808   \n",
            "                                                                 \n",
            " block4_conv3 (Conv2D)       (None, 16, 16, 512)       2359808   \n",
            "                                                                 \n",
            " block4_pool (MaxPooling2D)  (None, 8, 8, 512)         0         \n",
            "                                                                 \n",
            " block5_conv1 (Conv2D)       (None, 8, 8, 512)         2359808   \n",
            "                                                                 \n",
            " block5_conv2 (Conv2D)       (None, 8, 8, 512)         2359808   \n",
            "                                                                 \n",
            " block5_conv3 (Conv2D)       (None, 8, 8, 512)         2359808   \n",
            "                                                                 \n",
            " block5_pool (MaxPooling2D)  (None, 4, 4, 512)         0         \n",
            "                                                                 \n",
            "=================================================================\n",
            "Total params: 14,714,688\n",
            "Trainable params: 14,714,688\n",
            "Non-trainable params: 0\n",
            "_________________________________________________________________\n"
          ]
        }
      ],
      "source": [
        "\n",
        "conv_base = keras.applications.vgg16.VGG16(\n",
        "    weights=\"imagenet\",\n",
        "    include_top=False, # Throw away the densely connected layer at the end.\n",
        "    input_shape=(128, 128, 3)) \n",
        "\n",
        "conv_base.summary()"
      ]
    },
    {
      "cell_type": "markdown",
      "metadata": {
        "id": "gajJd26YnnAS"
      },
      "source": [
        "#*Pre-process Your Images Through the Pre-trained Model's CNN Layers*"
      ]
    },
    {
      "cell_type": "code",
      "execution_count": null,
      "metadata": {
        "id": "TiBeGccs9SU2"
      },
      "outputs": [],
      "source": [
        "def get_features(dataset):\n",
        "  features =[]\n",
        "  for image in dataset:\n",
        "    preprocessed_images = keras.applications.vgg16.preprocess_input(image)\n",
        "    features.append(preprocessed_images)\n",
        "  \n",
        "  all_features = np.stack(features)\n",
        "  final_features = conv_base.predict(all_features)\n",
        "\n",
        "  return final_features"
      ]
    },
    {
      "cell_type": "code",
      "execution_count": null,
      "metadata": {
        "id": "hdbXu3c-C-0a"
      },
      "outputs": [],
      "source": [
        "## YOUR CODE HERE TO PROCESS IMAGES THROUGH THE PRE-TRAINED MODEL AND STORE THEIR FEATURE VECTORS\n",
        "front_features = get_features(front_image)\n",
        "kitchen_features = get_features(kitchen_image)\n",
        "bathroom_features = get_features(bathroom_image)\n",
        "bedroom_features = get_features(bedroom_image)\n"
      ]
    },
    {
      "cell_type": "code",
      "execution_count": null,
      "metadata": {
        "id": "Ii9QQQ2ncKdE",
        "colab": {
          "base_uri": "https://localhost:8080/"
        },
        "outputId": "e0fdf97d-e190-4f28-9ef8-cf8af6a96744"
      },
      "outputs": [
        {
          "output_type": "execute_result",
          "data": {
            "text/plain": [
              "(535, 4, 4, 512)"
            ]
          },
          "metadata": {},
          "execution_count": 18
        }
      ],
      "source": [
        "front_features.shape"
      ]
    },
    {
      "cell_type": "markdown",
      "metadata": {
        "id": "7kVvPgayE3On"
      },
      "source": [
        "#*Define Your Dense Network (That Accepts the Image's Feature Vectors)*"
      ]
    },
    {
      "cell_type": "markdown",
      "metadata": {
        "id": "qI35k0K6E83T"
      },
      "source": [
        "* Data augmentation\n",
        "* Flatten\n",
        "* Dropout\n",
        "* Batch normalization\n",
        "* We used 'relu' activation function for hidden layers and 'linear' activation for final output function because this is regression problem."
      ]
    },
    {
      "cell_type": "code",
      "execution_count": null,
      "metadata": {
        "id": "ub58V_PJGJ9M"
      },
      "outputs": [],
      "source": [
        "def model_preTrain(a=4,b=4,c=512,d=31):\n",
        "    data_augmentation = keras.Sequential([\n",
        "      layers.RandomFlip(\"horizontal\"),\n",
        "      layers.RandomRotation(0.1),\n",
        "      layers.RandomZoom(0.2),\n",
        "    ])\n",
        "    \n",
        "    inputs1 = layers.Input(shape=(a,b,c), name=\"preTrain_image1\")\n",
        "    x1 = data_augmentation(inputs1)\n",
        "    x1 = layers.Flatten()(x1)\n",
        "    x1 = layers.Dense(256)(x1)\n",
        "    x1 = layers.Dropout(0.5)(x1)\n",
        "    outputs1 = layers.Dense(1, activation=\"relu\")(x1)\n",
        "\n",
        "    inputs2 = layers.Input(shape=(a,b,c), name=\"preTrain_image2\")\n",
        "    x2 = data_augmentation(inputs2)\n",
        "    x2 = layers.Flatten()(x2)\n",
        "    x2 = layers.Dense(256)(x2)\n",
        "    x2 = layers.Dropout(0.5)(x2)\n",
        "    outputs2 = layers.Dense(1, activation=\"relu\")(x2)\n",
        "\n",
        "    inputs3 = layers.Input(shape=(a,b,c), name=\"preTrain_image3\")\n",
        "    x3 = data_augmentation(inputs3)\n",
        "    x3 = layers.Flatten()(x3)\n",
        "    x3 = layers.Dense(256)(x3)\n",
        "    x3 = layers.Dropout(0.5)(x3)\n",
        "    outputs3 = layers.Dense(1, activation=\"relu\")(x3)\n",
        "\n",
        "    inputs4 = layers.Input(shape=(a,b,c), name=\"preTrain_image4\")\n",
        "    x4 = data_augmentation(inputs4)\n",
        "    x4 = layers.Flatten()(x4)\n",
        "    x4 = layers.Dense(256)(x4)\n",
        "    x4 = layers.Dropout(0.5)(x4)\n",
        "    outputs4 = layers.Dense(1, activation=\"relu\")(x4)    \n",
        "\n",
        "    input_numeric = layers.Input(shape=d,name=\"Numbers\")\n",
        "    x5 = layers.BatchNormalization()(input_numeric)\n",
        "    x5 = layers.Dense(8,activation=\"relu\")(x5)\n",
        "    x5 = layers.Dense(4,activation=\"relu\")(x5)\n",
        "    numeric_output = layers.Dense(1,activation=\"relu\")(x5)\n",
        "\n",
        "    merge = layers.Concatenate()([outputs1, outputs2,outputs3,outputs4,numeric_output])\n",
        "    x6 = layers.Dense(5,activation=\"relu\")(merge)\n",
        "    final_output = layers.Dense(1, activation=\"linear\")(x6)\n",
        "\n",
        "    model = keras.Model(inputs=[inputs1,inputs2,inputs3,inputs4,input_numeric], outputs=final_output)\n",
        "    model.compile(loss=\"mae\",\n",
        "                  optimizer=\"adam\",\n",
        "                  metrics=[\"mae\"])\n",
        "\n",
        "    return model"
      ]
    },
    {
      "cell_type": "markdown",
      "metadata": {
        "id": "-J-ivLplKdF-"
      },
      "source": [
        "#*Fit Your Dense Model*\n",
        "\n",
        "# Cross Validation"
      ]
    },
    {
      "cell_type": "code",
      "source": [
        "k = 5 \n",
        "num_val_samples = len(df) // k # floor division (i.e., round down to nearest integer.)\n",
        "num_epochs = 20\n",
        "batch_size = 25\n",
        "all_train_mae_histories_dense = []\n",
        "all_val_mae_histories_dense = []  \n",
        "\n",
        "print(\"In total, we have\",len(df),\"training observations.\")\n",
        "print(\"With a k of\",k,\"we have\",num_val_samples,\"observations per fold.\\n\")\n",
        "\n",
        "for i in range(k): # the folds are going to be indexed 0 through 3 if k = 4\n",
        "    print(\"Processing fold #:\",i)\n",
        "\n",
        "    # if I slice past the end of the array, it just gives me what it can find! No errors.\n",
        "    # This is important here, because the last fold won't produce an error, despite our slice going well beyond the end of the array.\n",
        "    print(\"Validation data includes observations\",i*num_val_samples,\"through\",(i+1)*num_val_samples-1) # minus 1 because a slice is up to and not including the second index.\n",
        "    \n",
        "    val_data1 = front_features[i * num_val_samples: (i + 1) * num_val_samples] \n",
        "    val_data2 = kitchen_features[i * num_val_samples: (i + 1) * num_val_samples]\n",
        "    val_data3 = bathroom_features[i * num_val_samples: (i + 1) * num_val_samples]\n",
        "    val_data4 = bedroom_features[i * num_val_samples: (i + 1) * num_val_samples]\n",
        "    val_data5 = df[i * num_val_samples: (i + 1) * num_val_samples]\n",
        "\n",
        "    val_targets = labels[i * num_val_samples: (i + 1) * num_val_samples]\n",
        "    \n",
        "    print(\"Training data includes observations 0 through\",i*num_val_samples-1,\"joined with observations\",(i+1)*num_val_samples,\"through the final observation.\\n\")\n",
        "    \n",
        "    partial_train_data1 = np.concatenate(\n",
        "        [front_features[:i * num_val_samples],\n",
        "         front_features[(i + 1) * num_val_samples:]],\n",
        "        axis=0)\n",
        "    \n",
        "    partial_train_data2 = np.concatenate(\n",
        "        [kitchen_features[:i * num_val_samples],\n",
        "         kitchen_features[(i + 1) * num_val_samples:]],\n",
        "        axis=0)    \n",
        "\n",
        "    partial_train_data3 = np.concatenate(\n",
        "        [bathroom_features[:i * num_val_samples],\n",
        "         bathroom_features[(i + 1) * num_val_samples:]],\n",
        "        axis=0)\n",
        "\n",
        "    partial_train_data4 = np.concatenate(\n",
        "        [bedroom_features[:i * num_val_samples],\n",
        "         bedroom_features[(i + 1) * num_val_samples:]],\n",
        "        axis=0)\n",
        "            \n",
        "    partial_train_data5 = np.concatenate(\n",
        "        [df[:i * num_val_samples],\n",
        "         df[(i + 1) * num_val_samples:]],\n",
        "        axis=0)\n",
        "    \n",
        "    partial_train_targets = np.concatenate(\n",
        "        [labels[:i * num_val_samples],\n",
        "         labels[(i + 1) * num_val_samples:]],\n",
        "        axis=0)\n",
        "    \n",
        "    model = model_preTrain()\n",
        "\n",
        "\n",
        "    history = model.fit(x=[partial_train_data1, partial_train_data2,partial_train_data3,partial_train_data4,partial_train_data5], y=partial_train_targets,\n",
        "                        validation_data=([val_data1,val_data2,val_data3,val_data4,val_data5], val_targets),\n",
        "                        epochs=num_epochs, batch_size=batch_size,verbose=1)\n",
        "  \n",
        "    train_mae_history_dense = history.history['mae']\n",
        "    val_mae_history_dense = history.history['val_mae']   \n",
        "\n",
        "    all_train_mae_histories_dense.append(train_mae_history_dense)\n",
        "    all_val_mae_histories_dense.append(val_mae_history_dense)\n",
        "\n",
        "\n",
        "average_train_mae_history_dense = [np.mean([x[i] for x in all_train_mae_histories_dense]) for i in range(num_epochs)]\n",
        "average_val_mae_history_dense = [np.mean([x[i] for x in all_val_mae_histories_dense]) for i in range(num_epochs)]"
      ],
      "metadata": {
        "id": "3WbJGoOEDtPq",
        "colab": {
          "base_uri": "https://localhost:8080/"
        },
        "outputId": "eff51e8f-c619-48c9-ebac-95050ae55d83"
      },
      "execution_count": null,
      "outputs": [
        {
          "output_type": "stream",
          "name": "stdout",
          "text": [
            "In total, we have 535 training observations.\n",
            "With a k of 5 we have 107 observations per fold.\n",
            "\n",
            "Processing fold #: 0\n",
            "Validation data includes observations 0 through 106\n",
            "Training data includes observations 0 through -1 joined with observations 107 through the final observation.\n",
            "\n",
            "Epoch 1/20\n",
            "18/18 [==============================] - 4s 41ms/step - loss: 596938.6875 - mae: 596938.6875 - val_loss: 556028.6875 - val_mae: 556028.6875\n",
            "Epoch 2/20\n",
            "18/18 [==============================] - 0s 23ms/step - loss: 595445.2500 - mae: 595445.2500 - val_loss: 553714.5625 - val_mae: 553714.5625\n",
            "Epoch 3/20\n",
            "18/18 [==============================] - 0s 22ms/step - loss: 592707.3750 - mae: 592707.3750 - val_loss: 549603.8750 - val_mae: 549603.8750\n",
            "Epoch 4/20\n",
            "18/18 [==============================] - 0s 24ms/step - loss: 588047.8750 - mae: 588047.8750 - val_loss: 542790.4375 - val_mae: 542790.4375\n",
            "Epoch 5/20\n",
            "18/18 [==============================] - 0s 24ms/step - loss: 580402.3750 - mae: 580402.3750 - val_loss: 532101.6250 - val_mae: 532101.6250\n",
            "Epoch 6/20\n",
            "18/18 [==============================] - 0s 24ms/step - loss: 568959.0000 - mae: 568959.0000 - val_loss: 516194.5312 - val_mae: 516194.5312\n",
            "Epoch 7/20\n",
            "18/18 [==============================] - 0s 23ms/step - loss: 552352.3125 - mae: 552352.3125 - val_loss: 494171.4688 - val_mae: 494171.4688\n",
            "Epoch 8/20\n",
            "18/18 [==============================] - 0s 22ms/step - loss: 529050.8125 - mae: 529050.8125 - val_loss: 466019.0625 - val_mae: 466019.0625\n",
            "Epoch 9/20\n",
            "18/18 [==============================] - 0s 21ms/step - loss: 502185.0000 - mae: 502185.0000 - val_loss: 434005.8750 - val_mae: 434005.8750\n",
            "Epoch 10/20\n",
            "18/18 [==============================] - 0s 25ms/step - loss: 475031.1250 - mae: 475031.1250 - val_loss: 403279.4688 - val_mae: 403279.4688\n",
            "Epoch 11/20\n",
            "18/18 [==============================] - 0s 24ms/step - loss: 445694.9688 - mae: 445694.9688 - val_loss: 373913.7188 - val_mae: 373913.7188\n",
            "Epoch 12/20\n",
            "18/18 [==============================] - 0s 22ms/step - loss: 413926.7188 - mae: 413926.7188 - val_loss: 348252.4062 - val_mae: 348252.4062\n",
            "Epoch 13/20\n",
            "18/18 [==============================] - 0s 24ms/step - loss: 384698.4688 - mae: 384698.4688 - val_loss: 324792.4062 - val_mae: 324792.4062\n",
            "Epoch 14/20\n",
            "18/18 [==============================] - 0s 22ms/step - loss: 360773.9062 - mae: 360773.9688 - val_loss: 310212.5938 - val_mae: 310212.5938\n",
            "Epoch 15/20\n",
            "18/18 [==============================] - 0s 25ms/step - loss: 340311.4062 - mae: 340311.4062 - val_loss: 304149.7500 - val_mae: 304149.7500\n",
            "Epoch 16/20\n",
            "18/18 [==============================] - 0s 22ms/step - loss: 327486.8750 - mae: 327486.8750 - val_loss: 303286.1875 - val_mae: 303286.1875\n",
            "Epoch 17/20\n",
            "18/18 [==============================] - 0s 23ms/step - loss: 319648.8750 - mae: 319648.8750 - val_loss: 311184.1875 - val_mae: 311184.1875\n",
            "Epoch 18/20\n",
            "18/18 [==============================] - 0s 24ms/step - loss: 319630.5312 - mae: 319630.5312 - val_loss: 311559.0000 - val_mae: 311559.0000\n",
            "Epoch 19/20\n",
            "18/18 [==============================] - 0s 21ms/step - loss: 318253.5000 - mae: 318253.5000 - val_loss: 312506.8125 - val_mae: 312506.8125\n",
            "Epoch 20/20\n",
            "18/18 [==============================] - 0s 22ms/step - loss: 319236.8750 - mae: 319236.8750 - val_loss: 312757.1875 - val_mae: 312757.1875\n",
            "Processing fold #: 1\n",
            "Validation data includes observations 107 through 213\n",
            "Training data includes observations 0 through 106 joined with observations 214 through the final observation.\n",
            "\n",
            "Epoch 1/20\n",
            "18/18 [==============================] - 4s 41ms/step - loss: 572143.3750 - mae: 572143.3750 - val_loss: 655942.7500 - val_mae: 655942.7500\n",
            "Epoch 2/20\n",
            "18/18 [==============================] - 0s 24ms/step - loss: 570978.1250 - mae: 570978.1250 - val_loss: 654164.4375 - val_mae: 654164.4375\n",
            "Epoch 3/20\n",
            "18/18 [==============================] - 0s 21ms/step - loss: 568875.0625 - mae: 568875.0625 - val_loss: 650991.6250 - val_mae: 650991.6250\n",
            "Epoch 4/20\n",
            "18/18 [==============================] - 0s 25ms/step - loss: 565237.1875 - mae: 565237.1875 - val_loss: 645718.7500 - val_mae: 645718.8750\n",
            "Epoch 5/20\n",
            "18/18 [==============================] - 0s 24ms/step - loss: 559483.8750 - mae: 559483.8750 - val_loss: 637599.1250 - val_mae: 637599.1250\n",
            "Epoch 6/20\n",
            "18/18 [==============================] - 0s 22ms/step - loss: 550621.0000 - mae: 550621.0000 - val_loss: 625777.0000 - val_mae: 625777.0000\n",
            "Epoch 7/20\n",
            "18/18 [==============================] - 0s 24ms/step - loss: 538469.8750 - mae: 538469.8750 - val_loss: 609318.1250 - val_mae: 609318.1250\n",
            "Epoch 8/20\n",
            "18/18 [==============================] - 0s 24ms/step - loss: 520728.7500 - mae: 520728.7500 - val_loss: 585428.6250 - val_mae: 585428.6250\n",
            "Epoch 9/20\n",
            "18/18 [==============================] - 0s 23ms/step - loss: 496899.1250 - mae: 496899.1250 - val_loss: 557278.9375 - val_mae: 557278.9375\n",
            "Epoch 10/20\n",
            "18/18 [==============================] - 0s 22ms/step - loss: 472319.0938 - mae: 472319.0938 - val_loss: 525616.1250 - val_mae: 525616.1250\n",
            "Epoch 11/20\n",
            "18/18 [==============================] - 0s 22ms/step - loss: 445677.8438 - mae: 445677.8438 - val_loss: 493477.2188 - val_mae: 493477.2188\n",
            "Epoch 12/20\n",
            "18/18 [==============================] - 0s 22ms/step - loss: 420576.0312 - mae: 420576.0625 - val_loss: 460325.8750 - val_mae: 460325.8750\n",
            "Epoch 13/20\n",
            "18/18 [==============================] - 0s 23ms/step - loss: 397894.8438 - mae: 397894.8438 - val_loss: 430453.5938 - val_mae: 430453.5938\n",
            "Epoch 14/20\n",
            "18/18 [==============================] - 0s 22ms/step - loss: 375538.1562 - mae: 375538.1562 - val_loss: 402593.6875 - val_mae: 402593.6875\n",
            "Epoch 15/20\n",
            "18/18 [==============================] - 0s 24ms/step - loss: 353136.1875 - mae: 353136.1875 - val_loss: 380195.4375 - val_mae: 380195.4375\n",
            "Epoch 16/20\n",
            "18/18 [==============================] - 0s 22ms/step - loss: 334760.9688 - mae: 334760.9688 - val_loss: 357843.0938 - val_mae: 357843.0938\n",
            "Epoch 17/20\n",
            "18/18 [==============================] - 0s 24ms/step - loss: 319838.8438 - mae: 319838.8750 - val_loss: 346138.4688 - val_mae: 346138.4688\n",
            "Epoch 18/20\n",
            "18/18 [==============================] - 0s 22ms/step - loss: 313659.0625 - mae: 313659.0625 - val_loss: 342856.3750 - val_mae: 342856.3750\n",
            "Epoch 19/20\n",
            "18/18 [==============================] - 0s 24ms/step - loss: 309292.3125 - mae: 309292.3125 - val_loss: 342299.2188 - val_mae: 342299.2188\n",
            "Epoch 20/20\n",
            "18/18 [==============================] - 0s 21ms/step - loss: 308656.5938 - mae: 308656.5938 - val_loss: 342369.9375 - val_mae: 342369.9375\n",
            "Processing fold #: 2\n",
            "Validation data includes observations 214 through 320\n",
            "Training data includes observations 0 through 213 joined with observations 321 through the final observation.\n",
            "\n",
            "Epoch 1/20\n",
            "18/18 [==============================] - 4s 39ms/step - loss: 593358.0625 - mae: 593358.0625 - val_loss: 572908.3125 - val_mae: 572908.3750\n",
            "Epoch 2/20\n",
            "18/18 [==============================] - 0s 26ms/step - loss: 593109.1875 - mae: 593109.1250 - val_loss: 572514.3125 - val_mae: 572514.3125\n",
            "Epoch 3/20\n",
            "18/18 [==============================] - 0s 21ms/step - loss: 592612.6250 - mae: 592612.6250 - val_loss: 571729.8125 - val_mae: 571729.8125\n",
            "Epoch 4/20\n",
            "18/18 [==============================] - 0s 22ms/step - loss: 591643.8750 - mae: 591643.8750 - val_loss: 570202.6875 - val_mae: 570202.6875\n",
            "Epoch 5/20\n",
            "18/18 [==============================] - 0s 24ms/step - loss: 589823.8750 - mae: 589823.9375 - val_loss: 567526.8125 - val_mae: 567526.8125\n",
            "Epoch 6/20\n",
            "18/18 [==============================] - 0s 24ms/step - loss: 586821.0000 - mae: 586821.0000 - val_loss: 563137.1875 - val_mae: 563137.1875\n",
            "Epoch 7/20\n",
            "18/18 [==============================] - 0s 22ms/step - loss: 581846.4375 - mae: 581846.4375 - val_loss: 556204.3750 - val_mae: 556204.4375\n",
            "Epoch 8/20\n",
            "18/18 [==============================] - 0s 21ms/step - loss: 574319.5000 - mae: 574319.5000 - val_loss: 545789.4375 - val_mae: 545789.4375\n",
            "Epoch 9/20\n",
            "18/18 [==============================] - 0s 22ms/step - loss: 563391.5625 - mae: 563391.5625 - val_loss: 530958.9375 - val_mae: 530958.9375\n",
            "Epoch 10/20\n",
            "18/18 [==============================] - 0s 21ms/step - loss: 548042.8750 - mae: 548042.8750 - val_loss: 510504.0312 - val_mae: 510504.0312\n",
            "Epoch 11/20\n",
            "18/18 [==============================] - 0s 24ms/step - loss: 527010.0625 - mae: 527010.0625 - val_loss: 486878.3125 - val_mae: 486878.3125\n",
            "Epoch 12/20\n",
            "18/18 [==============================] - 0s 22ms/step - loss: 501018.4688 - mae: 501018.4688 - val_loss: 464634.8750 - val_mae: 464634.9062\n",
            "Epoch 13/20\n",
            "18/18 [==============================] - 0s 21ms/step - loss: 473893.9375 - mae: 473893.9375 - val_loss: 444504.3438 - val_mae: 444504.3438\n",
            "Epoch 14/20\n",
            "18/18 [==============================] - 0s 22ms/step - loss: 441860.3750 - mae: 441860.3750 - val_loss: 423482.0938 - val_mae: 423482.0938\n",
            "Epoch 15/20\n",
            "18/18 [==============================] - 0s 24ms/step - loss: 413278.0625 - mae: 413278.0625 - val_loss: 404604.0312 - val_mae: 404604.0312\n",
            "Epoch 16/20\n",
            "18/18 [==============================] - 0s 22ms/step - loss: 386840.1562 - mae: 386840.1562 - val_loss: 387497.1875 - val_mae: 387497.1875\n",
            "Epoch 17/20\n",
            "18/18 [==============================] - 0s 22ms/step - loss: 358101.2188 - mae: 358101.2188 - val_loss: 370124.3750 - val_mae: 370124.3750\n",
            "Epoch 18/20\n",
            "18/18 [==============================] - 0s 22ms/step - loss: 334159.9688 - mae: 334159.9688 - val_loss: 358842.0938 - val_mae: 358842.0312\n",
            "Epoch 19/20\n",
            "18/18 [==============================] - 0s 21ms/step - loss: 317196.1875 - mae: 317196.1875 - val_loss: 356759.1875 - val_mae: 356759.1875\n",
            "Epoch 20/20\n",
            "18/18 [==============================] - 0s 23ms/step - loss: 305467.6250 - mae: 305467.6250 - val_loss: 363837.4062 - val_mae: 363837.4062\n",
            "Processing fold #: 3\n",
            "Validation data includes observations 321 through 427\n",
            "Training data includes observations 0 through 320 joined with observations 428 through the final observation.\n",
            "\n",
            "Epoch 1/20\n",
            "18/18 [==============================] - 4s 40ms/step - loss: 577975.3125 - mae: 577975.3125 - val_loss: 633331.9375 - val_mae: 633331.9375\n",
            "Epoch 2/20\n",
            "18/18 [==============================] - 0s 25ms/step - loss: 577161.6250 - mae: 577161.6250 - val_loss: 632032.3750 - val_mae: 632032.3750\n",
            "Epoch 3/20\n",
            "18/18 [==============================] - 0s 24ms/step - loss: 575561.0625 - mae: 575561.0625 - val_loss: 629579.5625 - val_mae: 629579.5625\n",
            "Epoch 4/20\n",
            "18/18 [==============================] - 0s 21ms/step - loss: 572709.3750 - mae: 572709.3750 - val_loss: 625316.0000 - val_mae: 625316.0000\n",
            "Epoch 5/20\n",
            "18/18 [==============================] - 0s 24ms/step - loss: 567895.1875 - mae: 567895.1875 - val_loss: 618336.5625 - val_mae: 618336.5625\n",
            "Epoch 6/20\n",
            "18/18 [==============================] - 0s 22ms/step - loss: 560336.8750 - mae: 560336.8750 - val_loss: 607636.5000 - val_mae: 607636.5000\n",
            "Epoch 7/20\n",
            "18/18 [==============================] - 0s 22ms/step - loss: 548459.3750 - mae: 548459.3750 - val_loss: 591919.4375 - val_mae: 591919.3750\n",
            "Epoch 8/20\n",
            "18/18 [==============================] - 0s 22ms/step - loss: 531703.0000 - mae: 531703.0000 - val_loss: 569546.6875 - val_mae: 569546.6875\n",
            "Epoch 9/20\n",
            "18/18 [==============================] - 0s 24ms/step - loss: 508761.7812 - mae: 508761.7812 - val_loss: 539827.0000 - val_mae: 539827.0000\n",
            "Epoch 10/20\n",
            "18/18 [==============================] - 0s 24ms/step - loss: 483011.2188 - mae: 483011.2188 - val_loss: 506313.8438 - val_mae: 506313.8438\n",
            "Epoch 11/20\n",
            "18/18 [==============================] - 0s 24ms/step - loss: 455614.3438 - mae: 455614.3438 - val_loss: 472742.6250 - val_mae: 472742.6250\n",
            "Epoch 12/20\n",
            "18/18 [==============================] - 0s 22ms/step - loss: 428158.2812 - mae: 428158.3125 - val_loss: 438484.7188 - val_mae: 438484.7188\n",
            "Epoch 13/20\n",
            "18/18 [==============================] - 0s 22ms/step - loss: 399452.2500 - mae: 399452.2500 - val_loss: 405753.2812 - val_mae: 405753.2812\n",
            "Epoch 14/20\n",
            "18/18 [==============================] - 0s 21ms/step - loss: 374839.4062 - mae: 374839.4062 - val_loss: 376784.9688 - val_mae: 376784.9688\n",
            "Epoch 15/20\n",
            "18/18 [==============================] - 0s 24ms/step - loss: 350922.7188 - mae: 350922.7188 - val_loss: 348994.1562 - val_mae: 348994.1562\n",
            "Epoch 16/20\n",
            "18/18 [==============================] - 0s 24ms/step - loss: 333667.0000 - mae: 333667.0000 - val_loss: 329513.8750 - val_mae: 329513.8750\n",
            "Epoch 17/20\n",
            "18/18 [==============================] - 0s 22ms/step - loss: 321070.7812 - mae: 321070.7812 - val_loss: 322422.9062 - val_mae: 322422.9062\n",
            "Epoch 18/20\n",
            "18/18 [==============================] - 0s 24ms/step - loss: 315615.4062 - mae: 315615.4062 - val_loss: 322473.0000 - val_mae: 322473.0000\n",
            "Epoch 19/20\n",
            "18/18 [==============================] - 0s 22ms/step - loss: 314239.8750 - mae: 314239.8750 - val_loss: 322672.1250 - val_mae: 322672.1250\n",
            "Epoch 20/20\n",
            "18/18 [==============================] - 0s 22ms/step - loss: 312493.4375 - mae: 312493.4375 - val_loss: 323262.8750 - val_mae: 323262.9062\n",
            "Processing fold #: 4\n",
            "Validation data includes observations 428 through 534\n",
            "Training data includes observations 0 through 427 joined with observations 535 through the final observation.\n",
            "\n",
            "Epoch 1/20\n",
            "18/18 [==============================] - 4s 43ms/step - loss: 605197.4375 - mae: 605197.4375 - val_loss: 525153.4375 - val_mae: 525153.4375\n",
            "Epoch 2/20\n",
            "18/18 [==============================] - 0s 21ms/step - loss: 604718.9375 - mae: 604718.9375 - val_loss: 524400.8750 - val_mae: 524400.8750\n",
            "Epoch 3/20\n",
            "18/18 [==============================] - 0s 25ms/step - loss: 603814.9375 - mae: 603814.9375 - val_loss: 523060.0625 - val_mae: 523060.0625\n",
            "Epoch 4/20\n",
            "18/18 [==============================] - 0s 24ms/step - loss: 602234.2500 - mae: 602234.2500 - val_loss: 520658.5938 - val_mae: 520658.5938\n",
            "Epoch 5/20\n",
            "18/18 [==============================] - 0s 23ms/step - loss: 599404.6875 - mae: 599404.6875 - val_loss: 516504.2500 - val_mae: 516504.2500\n",
            "Epoch 6/20\n",
            "18/18 [==============================] - 0s 24ms/step - loss: 594903.5000 - mae: 594903.4375 - val_loss: 510419.4688 - val_mae: 510419.4688\n",
            "Epoch 7/20\n",
            "18/18 [==============================] - 0s 24ms/step - loss: 588680.6250 - mae: 588680.6250 - val_loss: 501906.2812 - val_mae: 501906.2812\n",
            "Epoch 8/20\n",
            "18/18 [==============================] - 0s 22ms/step - loss: 579649.8125 - mae: 579649.8750 - val_loss: 490029.9062 - val_mae: 490029.9062\n",
            "Epoch 9/20\n",
            "18/18 [==============================] - 0s 24ms/step - loss: 567312.0625 - mae: 567312.0625 - val_loss: 473819.8750 - val_mae: 473819.8750\n",
            "Epoch 10/20\n",
            "18/18 [==============================] - 0s 25ms/step - loss: 550662.4375 - mae: 550662.4375 - val_loss: 452739.4375 - val_mae: 452739.4375\n",
            "Epoch 11/20\n",
            "18/18 [==============================] - 0s 24ms/step - loss: 530525.6875 - mae: 530525.6875 - val_loss: 429658.7188 - val_mae: 429658.7188\n",
            "Epoch 12/20\n",
            "18/18 [==============================] - 0s 22ms/step - loss: 506713.3125 - mae: 506713.2812 - val_loss: 405236.6250 - val_mae: 405236.6250\n",
            "Epoch 13/20\n",
            "18/18 [==============================] - 0s 24ms/step - loss: 480218.0312 - mae: 480218.0312 - val_loss: 377736.5938 - val_mae: 377736.5938\n",
            "Epoch 14/20\n",
            "18/18 [==============================] - 0s 22ms/step - loss: 455243.8125 - mae: 455243.8125 - val_loss: 348041.0000 - val_mae: 348041.0000\n",
            "Epoch 15/20\n",
            "18/18 [==============================] - 0s 22ms/step - loss: 429120.7188 - mae: 429120.7188 - val_loss: 320211.4688 - val_mae: 320211.4688\n",
            "Epoch 16/20\n",
            "18/18 [==============================] - 0s 22ms/step - loss: 408359.7500 - mae: 408359.7500 - val_loss: 292783.4062 - val_mae: 292783.4062\n",
            "Epoch 17/20\n",
            "18/18 [==============================] - 0s 24ms/step - loss: 385929.5625 - mae: 385929.5625 - val_loss: 272706.6875 - val_mae: 272706.6875\n",
            "Epoch 18/20\n",
            "18/18 [==============================] - 0s 24ms/step - loss: 365356.3125 - mae: 365356.3125 - val_loss: 254047.7969 - val_mae: 254047.7969\n",
            "Epoch 19/20\n",
            "18/18 [==============================] - 0s 23ms/step - loss: 349010.0625 - mae: 349010.0625 - val_loss: 244822.5625 - val_mae: 244822.5625\n",
            "Epoch 20/20\n",
            "18/18 [==============================] - 0s 22ms/step - loss: 338275.8438 - mae: 338275.8438 - val_loss: 243624.2656 - val_mae: 243624.2656\n"
          ]
        }
      ]
    },
    {
      "cell_type": "markdown",
      "metadata": {
        "id": "CRSYQc9THy9w"
      },
      "source": [
        "# Plot model"
      ]
    },
    {
      "cell_type": "code",
      "source": [
        "import matplotlib.pyplot as plt\n",
        "plt.plot(average_train_mae_history_dense, c=\"r\")\n",
        "plt.plot(average_val_mae_history_dense,c=\"b\")\n",
        "plt.legend(['Train','Validation'],title=\"Loss\")\n",
        "plt.xlabel(\"Epochs\")\n",
        "plt.ylabel(\"Average Validation MAE Across k Folds\")\n",
        "plt.show()"
      ],
      "metadata": {
        "id": "32uYsImpjsaa",
        "colab": {
          "base_uri": "https://localhost:8080/",
          "height": 281
        },
        "outputId": "08c90d2d-d67b-42bc-fd45-aab5927979a2"
      },
      "execution_count": null,
      "outputs": [
        {
          "output_type": "display_data",
          "data": {
            "image/png": "[encoded data removed]",
            "text/plain": [
              "<Figure size 432x288 with 1 Axes>"
            ]
          },
          "metadata": {
            "needs_background": "light"
          }
        }
      ]
    },
    {
      "cell_type": "markdown",
      "source": [
        "# Final model configuration"
      ],
      "metadata": {
        "id": "SCDdgiyKI4kW"
      }
    },
    {
      "cell_type": "markdown",
      "source": [
        "* We decided to choose 20 epochs and 25 batch sizes\n",
        "* we were able to increase eopochs with less computation time using pretrained model\n",
        "* We were also able to decrease overfitting and Validation MAE using pretrained model"
      ],
      "metadata": {
        "id": "2szA0iwMVcaZ"
      }
    },
    {
      "cell_type": "code",
      "execution_count": null,
      "metadata": {
        "id": "uJK4rbAem7zG"
      },
      "outputs": [],
      "source": [
        "pretrain_model = model_preTrain()"
      ]
    },
    {
      "cell_type": "code",
      "execution_count": null,
      "metadata": {
        "id": "IFqaM2cynKFL",
        "colab": {
          "base_uri": "https://localhost:8080/"
        },
        "outputId": "10dd5ce7-c3ee-4d78-d319-438b2bed2b9c"
      },
      "outputs": [
        {
          "output_type": "stream",
          "name": "stdout",
          "text": [
            "Epoch 1/20\n",
            "22/22 [==============================] - 0s 20ms/step - loss: 220952.8750 - mae: 220952.8750\n",
            "Epoch 2/20\n",
            "22/22 [==============================] - 0s 19ms/step - loss: 226438.2500 - mae: 226438.2500\n",
            "Epoch 3/20\n",
            "22/22 [==============================] - 0s 19ms/step - loss: 218555.8750 - mae: 218555.8750\n",
            "Epoch 4/20\n",
            "22/22 [==============================] - 0s 20ms/step - loss: 218556.6094 - mae: 218556.6094\n",
            "Epoch 5/20\n",
            "22/22 [==============================] - 0s 19ms/step - loss: 218330.2031 - mae: 218330.2031\n",
            "Epoch 6/20\n",
            "22/22 [==============================] - 0s 19ms/step - loss: 218468.8281 - mae: 218468.8281\n",
            "Epoch 7/20\n",
            "22/22 [==============================] - 0s 20ms/step - loss: 215624.5000 - mae: 215624.5000\n",
            "Epoch 8/20\n",
            "22/22 [==============================] - 0s 19ms/step - loss: 211521.9375 - mae: 211521.9375\n",
            "Epoch 9/20\n",
            "22/22 [==============================] - 0s 20ms/step - loss: 214720.5312 - mae: 214720.5312\n",
            "Epoch 10/20\n",
            "22/22 [==============================] - 0s 19ms/step - loss: 211835.4844 - mae: 211835.4844\n",
            "Epoch 11/20\n",
            "22/22 [==============================] - 0s 21ms/step - loss: 211821.0625 - mae: 211821.0625\n",
            "Epoch 12/20\n",
            "22/22 [==============================] - 0s 20ms/step - loss: 208978.1562 - mae: 208978.1562\n",
            "Epoch 13/20\n",
            "22/22 [==============================] - 0s 20ms/step - loss: 210593.1875 - mae: 210593.1875\n",
            "Epoch 14/20\n",
            "22/22 [==============================] - 0s 21ms/step - loss: 207490.4688 - mae: 207490.4688\n",
            "Epoch 15/20\n",
            "22/22 [==============================] - 0s 19ms/step - loss: 211315.8906 - mae: 211315.8906\n",
            "Epoch 16/20\n",
            "22/22 [==============================] - 0s 20ms/step - loss: 210842.7500 - mae: 210842.7500\n",
            "Epoch 17/20\n",
            "22/22 [==============================] - 0s 19ms/step - loss: 208616.5781 - mae: 208616.5781\n",
            "Epoch 18/20\n",
            "22/22 [==============================] - 0s 20ms/step - loss: 208465.8594 - mae: 208465.8594\n",
            "Epoch 19/20\n",
            "22/22 [==============================] - 0s 19ms/step - loss: 205557.1562 - mae: 205557.1562\n",
            "Epoch 20/20\n",
            "22/22 [==============================] - 0s 18ms/step - loss: 202723.2656 - mae: 202723.2656\n"
          ]
        }
      ],
      "source": [
        "pretrain_history = pretrain_model.fit(x=[front_features, kitchen_features, bathroom_features, bedroom_features, df], y=labels, epochs=20, batch_size=25)"
      ]
    }
  ],
  "metadata": {
    "accelerator": "GPU",
    "colab": {
      "collapsed_sections": [],
      "provenance": []
    },
    "kernelspec": {
      "display_name": "Python 3",
      "name": "python3"
    },
    "language_info": {
      "codemirror_mode": {
        "name": "ipython",
        "version": 3
      },
      "file_extension": ".py",
      "mimetype": "text/x-python",
      "name": "python",
      "nbconvert_exporter": "python",
      "pygments_lexer": "ipython3",
      "version": "3.8.12"
    }
  },
  "nbformat": 4,
  "nbformat_minor": 0
}